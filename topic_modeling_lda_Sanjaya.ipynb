{
 "cells": [
  {
   "cell_type": "markdown",
   "metadata": {},
   "source": [
    "# Topic modeling : LDA"
   ]
  },
  {
   "cell_type": "code",
   "execution_count": 1,
   "metadata": {},
   "outputs": [
    {
     "data": {
      "text/html": [
       "<div id=\"my_id_menu_nb\">run previous cell, wait for 2 seconds</div>\n",
       "<script>\n",
       "function repeat_indent_string(n){\n",
       "    var a = \"\" ;\n",
       "    for ( ; n > 0 ; --n)\n",
       "        a += \"    \";\n",
       "    return a;\n",
       "}\n",
       "// look up into all sections and builds an automated menu //\n",
       "var update_menu_string = function(begin, lfirst, llast, sformat, send, keep_item, begin_format, end_format) {\n",
       "    var anchors = document.getElementsByClassName(\"section\");\n",
       "    if (anchors.length == 0) {\n",
       "        anchors = document.getElementsByClassName(\"text_cell_render rendered_html\");\n",
       "    }\n",
       "    var i,t;\n",
       "    var text_menu = begin;\n",
       "    var text_memo = \"<pre>\\nlength:\" + anchors.length + \"\\n\";\n",
       "    var ind = \"\";\n",
       "    var memo_level = 1;\n",
       "    var href;\n",
       "    var tags = [];\n",
       "    var main_item = 0;\n",
       "    var format_open = 0;\n",
       "    for (i = 0; i <= llast; i++)\n",
       "        tags.push(\"h\" + i);\n",
       "\n",
       "    for (i = 0; i < anchors.length; i++) {\n",
       "        text_memo += \"**\" + anchors[i].id + \"--\\n\";\n",
       "\n",
       "        var child = null;\n",
       "        for(t = 0; t < tags.length; t++) {\n",
       "            var r = anchors[i].getElementsByTagName(tags[t]);\n",
       "            if (r.length > 0) {\n",
       "child = r[0];\n",
       "break;\n",
       "            }\n",
       "        }\n",
       "        if (child == null) {\n",
       "            text_memo += \"null\\n\";\n",
       "            continue;\n",
       "        }\n",
       "        if (anchors[i].hasAttribute(\"id\")) {\n",
       "            // when converted in RST\n",
       "            href = anchors[i].id;\n",
       "            text_memo += \"#1-\" + href;\n",
       "            // passer à child suivant (le chercher)\n",
       "        }\n",
       "        else if (child.hasAttribute(\"id\")) {\n",
       "            // in a notebook\n",
       "            href = child.id;\n",
       "            text_memo += \"#2-\" + href;\n",
       "        }\n",
       "        else {\n",
       "            text_memo += \"#3-\" + \"*\" + \"\\n\";\n",
       "            continue;\n",
       "        }\n",
       "        var title = child.textContent;\n",
       "        var level = parseInt(child.tagName.substring(1,2));\n",
       "\n",
       "        text_memo += \"--\" + level + \"?\" + lfirst + \"--\" + title + \"\\n\";\n",
       "\n",
       "        if ((level < lfirst) || (level > llast)) {\n",
       "            continue ;\n",
       "        }\n",
       "        if (title.endsWith('¶')) {\n",
       "            title = title.substring(0,title.length-1).replace(\"<\", \"&lt;\")\n",
       "         .replace(\">\", \"&gt;\").replace(\"&\", \"&amp;\");\n",
       "        }\n",
       "        if (title.length == 0) {\n",
       "            continue;\n",
       "        }\n",
       "\n",
       "        while (level < memo_level) {\n",
       "            text_menu += end_format + \"</ul>\\n\";\n",
       "            format_open -= 1;\n",
       "            memo_level -= 1;\n",
       "        }\n",
       "        if (level == lfirst) {\n",
       "            main_item += 1;\n",
       "        }\n",
       "        if (keep_item != -1 && main_item != keep_item + 1) {\n",
       "            // alert(main_item + \" - \" + level + \" - \" + keep_item);\n",
       "            continue;\n",
       "        }\n",
       "        while (level > memo_level) {\n",
       "            text_menu += \"<ul>\\n\";\n",
       "            memo_level += 1;\n",
       "        }\n",
       "        text_menu += repeat_indent_string(level-2);\n",
       "        text_menu += begin_format + sformat.replace(\"__HREF__\", href).replace(\"__TITLE__\", title);\n",
       "        format_open += 1;\n",
       "    }\n",
       "    while (1 < memo_level) {\n",
       "        text_menu += end_format + \"</ul>\\n\";\n",
       "        memo_level -= 1;\n",
       "        format_open -= 1;\n",
       "    }\n",
       "    text_menu += send;\n",
       "    //text_menu += \"\\n\" + text_memo;\n",
       "\n",
       "    while (format_open > 0) {\n",
       "        text_menu += end_format;\n",
       "        format_open -= 1;\n",
       "    }\n",
       "    return text_menu;\n",
       "};\n",
       "var update_menu = function() {\n",
       "    var sbegin = \"\";\n",
       "    var sformat = '<a href=\"#__HREF__\">__TITLE__</a>';\n",
       "    var send = \"\";\n",
       "    var begin_format = '<li>';\n",
       "    var end_format = '</li>';\n",
       "    var keep_item = -1;\n",
       "    var text_menu = update_menu_string(sbegin, 2, 4, sformat, send, keep_item,\n",
       "       begin_format, end_format);\n",
       "    var menu = document.getElementById(\"my_id_menu_nb\");\n",
       "    menu.innerHTML=text_menu;\n",
       "};\n",
       "window.setTimeout(update_menu,2000);\n",
       "            </script>"
      ],
      "text/plain": [
       "<IPython.core.display.HTML object>"
      ]
     },
     "execution_count": 1,
     "metadata": {},
     "output_type": "execute_result"
    }
   ],
   "source": [
    "from jyquickhelper import add_notebook_menu\n",
    "add_notebook_menu()"
   ]
  },
  {
   "cell_type": "markdown",
   "metadata": {},
   "source": [
    "## Dataset : Grand Débat National (Great national debate)\n",
    "\n",
    "The aim of this exercise is to be familiar with the text-mining and topic models such as LDA. One of the contexts where topic modeling is very useful is in open-ended questions. It allows us to explore the variation of topics addressed in people's responses. For this we will use the french \"Grand Débat National\" dataset. This dataset presents a complete set of responses from the [Grand Débat National](https://granddebat.fr/), the public debate organized by President Macron. The purpose of the debate was to better understand the needs and opinions of the French people following the Yellow Vests protests. The results of this debate are now available as [open data](https://granddebat.fr/pages/donnees-ouvertes)."
   ]
  },
  {
   "cell_type": "markdown",
   "metadata": {},
   "source": [
    "## 1. Import data"
   ]
  },
  {
   "cell_type": "markdown",
   "metadata": {},
   "source": [
    "**Question 1 :** Download one of the ecological transition csv files and load the content into a pandas dataframe. Name this variable `raw_data`"
   ]
  },
  {
   "cell_type": "code",
   "execution_count": 2,
   "metadata": {},
   "outputs": [
    {
     "name": "stdout",
     "output_type": "stream",
     "text": [
      "  reference                                              title  \\\n",
      "0       2-4                              transition écologique   \n",
      "1       2-5                                   La surpopulation   \n",
      "2       2-6                                             climat   \n",
      "3       2-7                                  POLLUTION AIR EAU   \n",
      "4       2-8                               Economie vs Ecologie   \n",
      "5       2-9                 égalité territoriale de traitement   \n",
      "6      2-11  Nous sommes les gardiens de la terre et des pa...   \n",
      "7      2-12                            Pollution de la planete   \n",
      "8      2-13  imposer une écotaxe aux compagnies maritimes e...   \n",
      "9      2-14  Je ne souhaite pas répondre au questionnaire d...   \n",
      "\n",
      "                                            authorId           authorType  \\\n",
      "0  VXNlcjoxMTQwMTc0YS0xZTFmLTExZTktOTRkMi1mYTE2M2...  Citoyen / Citoyenne   \n",
      "1  VXNlcjpjOWYxZWQ1NS0xYzEwLTExZTktOTRkMi1mYTE2M2...  Citoyen / Citoyenne   \n",
      "2  VXNlcjozZjlhNzAwOS0xYTc2LTExZTktOTRkMi1mYTE2M2...  Citoyen / Citoyenne   \n",
      "3  VXNlcjozOWQwNzJjNC0xZDEwLTExZTktOTRkMi1mYTE2M2...  Citoyen / Citoyenne   \n",
      "4  VXNlcjo3M2YxN2NlZS0xZDRiLTExZTktOTRkMi1mYTE2M2...  Citoyen / Citoyenne   \n",
      "5  VXNlcjpkMGQ3YzIzZS0xZDg5LTExZTktOTRkMi1mYTE2M2...  Citoyen / Citoyenne   \n",
      "6  VXNlcjozMWQzMTg0Ny0xZTFmLTExZTktOTRkMi1mYTE2M2...  Citoyen / Citoyenne   \n",
      "7  VXNlcjoxZTgxNzhjNS0xZTIwLTExZTktOTRkMi1mYTE2M2...  Citoyen / Citoyenne   \n",
      "8  VXNlcjoyOTQxYWJjYy0xZTIwLTExZTktOTRkMi1mYTE2M2...  Citoyen / Citoyenne   \n",
      "9  VXNlcjoyZDdhZmQwYS0xZTIxLTExZTktOTRkMi1mYTE2M2...  Citoyen / Citoyenne   \n",
      "\n",
      "  authorZipCode  \\\n",
      "0       97231.0   \n",
      "1       57000.0   \n",
      "2       34140.0   \n",
      "3       17400.0   \n",
      "4       35430.0   \n",
      "5       95330.0   \n",
      "6       84750.0   \n",
      "7       25550.0   \n",
      "8       83460.0   \n",
      "9       21000.0   \n",
      "\n",
      "  Quel est aujourd'hui pour vous le problème concret le plus important dans le domaine de l'environnement ?  \\\n",
      "0                                            Inconnu                                                          \n",
      "1  Les problèmes auxquels se trouve confronté l’e...                                                          \n",
      "2    Les dérèglements climatiques (crue, sécheresse)                                                          \n",
      "3                              La pollution de l'air                                                          \n",
      "4  La biodiversité et la disparition de certaines...                                                          \n",
      "5                              La pollution de l'air                                                          \n",
      "6  La biodiversité et la disparition de certaines...                                                          \n",
      "7                              La pollution de l'air                                                          \n",
      "8                              La pollution de l'air                                                          \n",
      "9                                            Inconnu                                                          \n",
      "\n",
      "  Que faudrait-il faire selon vous pour apporter des réponses à ce problème ?  \\\n",
      "0                                            Inconnu                            \n",
      "1  Les problèmes auxquels se trouve confronté l’e...                            \n",
      "2  pour éviter les inondations obliger les rivera...                            \n",
      "3  Il faut taxer les gros pollueurs : Entreprises...                            \n",
      "4  Changer notre mode de vie, impulser une nouvel...                            \n",
      "5  En matière d'émission de C02 tout n'est pas di...                            \n",
      "6  Arrêter les pesticides , notamment le glyphosa...                            \n",
      "7  La France seule pese 0.9% des émissions de CO2...                            \n",
      "8  faire payer une ecotaxe aux compagnies de croi...                            \n",
      "9                                            Inconnu                            \n",
      "\n",
      "   Par rapport à votre mode de chauffage actuel, pensez-vous qu'il existe des solutions alternatives plus écologiques ?  \\\n",
      "0                                            Inconnu                                                                      \n",
      "1                                            Inconnu                                                                      \n",
      "2                                                Non                                                                      \n",
      "3                                                Non                                                                      \n",
      "4                                                Oui                                                                      \n",
      "5                                                Oui                                                                      \n",
      "6                                                Oui                                                                      \n",
      "7                                                Oui                                                                      \n",
      "8                                                Oui                                                                      \n",
      "9                                            Inconnu                                                                      \n",
      "\n",
      "  Si oui, que faudrait-il faire pour vous convaincre ou vous aider à changer de mode de chauffage ?  \\\n",
      "0                                            Inconnu                                                  \n",
      "1                                            Inconnu                                                  \n",
      "2                                            Inconnu                                                  \n",
      "3                                            Inconnu                                                  \n",
      "4  Pollution de l'air, pollution de nos aliments,...                                                  \n",
      "5                                            Inconnu                                                  \n",
      "6  Réchauffement climatique évident , température...                                                  \n",
      "7                                             Climat                                                  \n",
      "8  la qualité de l'air n'est pas la même selon la...                                                  \n",
      "9                                            Inconnu                                                  \n",
      "\n",
      "  Avez-vous pour vos déplacements quotidiens la possibilité de recourir à des solutions de mobilité alternatives à la voiture individuelle comme les transports en commun, le covoiturage, l'auto-partage, le transport à la demande, le vélo, etc. ?  \\\n",
      "0                                            Inconnu                                                                                                                                                                                                    \n",
      "1                                            Inconnu                                                                                                                                                                                                    \n",
      "2                                                Non                                                                                                                                                                                                    \n",
      "3                                                Non                                                                                                                                                                                                    \n",
      "4                                                Oui                                                                                                                                                                                                    \n",
      "5                                                Oui                                                                                                                                                                                                    \n",
      "6                                                Oui                                                                                                                                                                                                    \n",
      "7                                                Oui                                                                                                                                                                                                    \n",
      "8                                                Oui                                                                                                                                                                                                    \n",
      "9                                            Inconnu                                                                                                                                                                                                    \n",
      "\n",
      "   ...  \\\n",
      "0  ...   \n",
      "1  ...   \n",
      "2  ...   \n",
      "3  ...   \n",
      "4  ...   \n",
      "5  ...   \n",
      "6  ...   \n",
      "7  ...   \n",
      "8  ...   \n",
      "9  ...   \n",
      "\n",
      "  Si non, quelles sont les solutions de mobilité alternatives que vous souhaiteriez pouvoir utiliser ?  \\\n",
      "0                                            Inconnu                                                     \n",
      "1                                            Inconnu                                                     \n",
      "2             développer  les transports en commun ,                                                     \n",
      "3                                            Inconnu                                                     \n",
      "4  Aménagement de piste cyclable, développement d...                                                     \n",
      "5                                          déjà fait                                                     \n",
      "6  Transports en commun , reconstruction de ligne...                                                     \n",
      "7                                Utilisation du vélo                                                     \n",
      "8  la gratuité des transports en commun pour les ...                                                     \n",
      "9                                            Inconnu                                                     \n",
      "\n",
      "  Et qui doit selon vous se charger de vous proposer ce type de solutions alternatives ?  \\\n",
      "0                                            Inconnu                                       \n",
      "1                                            Inconnu                                       \n",
      "2                                            Inconnu                                       \n",
      "3  Plus de transports publics dans les petites co...                                       \n",
      "4  Détaxer le mode de chauffage écologique, une a...                                       \n",
      "5                                            Inconnu                                       \n",
      "6  Baisse des impôts avec obligation de réaliser ...                                       \n",
      "7  Prime pour achat vélo. Développer le réseau cy...                                       \n",
      "8                                            Inconnu                                       \n",
      "9                                            Inconnu                                       \n",
      "\n",
      "  Que pourrait faire la France pour faire partager ses choix en matière d'environnement au niveau européen et international ?  \\\n",
      "0                                            Inconnu                                                                            \n",
      "1                                            Inconnu                                                                            \n",
      "2                                                Non                                                                            \n",
      "3                                                Non                                                                            \n",
      "4                                                Oui                                                                            \n",
      "5                                                Non                                                                            \n",
      "6                                                Oui                                                                            \n",
      "7                                                Oui                                                                            \n",
      "8                                                Oui                                                                            \n",
      "9                                            Inconnu                                                                            \n",
      "\n",
      "  Y a-t-il d'autres points sur la transition écologique sur lesquels vous souhaiteriez vous exprimer ?  \\\n",
      "0                                            Inconnu                                                     \n",
      "1                                            Inconnu                                                     \n",
      "2                                            Inconnu                                                     \n",
      "3                                            Inconnu                                                     \n",
      "4  une aide significative pour de l'éolien ou du ...                                                     \n",
      "5  rien il n'existe pas de solution fiable actuel...                                                     \n",
      "6  Primes et visites à domicile pour étude de la ...                                                     \n",
      "7   Aide incitative simple sans condition de revenus                                                     \n",
      "8  j'ai déjà réduit ma conso electrique en instal...                                                     \n",
      "9                                            Inconnu                                                     \n",
      "\n",
      "  QUXVlc3Rpb246MTU0 - Avez-vous pour vos déplacements quotidiens la possibilité de recourir à des solutions de mobilité alternatives à la voiture individuelle comme les transports en commun, le covoiturage, l'auto-partage, le transport à la demande, le vélo, etc. ?  \\\n",
      "0                                            Inconnu                                                                                                                                                                                                                        \n",
      "1                                            Inconnu                                                                                                                                                                                                                        \n",
      "2                                                Oui                                                                                                                                                                                                                        \n",
      "3                                                Non                                                                                                                                                                                                                        \n",
      "4                                                Non                                                                                                                                                                                                                        \n",
      "5                                                Oui                                                                                                                                                                                                                        \n",
      "6                                                Non                                                                                                                                                                                                                        \n",
      "7                                                Non                                                                                                                                                                                                                        \n",
      "8  Je n'utilise pas la voiture pour des déplaceme...                                                                                                                                                                                                                        \n",
      "9                                            Inconnu                                                                                                                                                                                                                        \n",
      "\n",
      "  QUXVlc3Rpb246MTU1 - Si oui, que faudrait-il faire pour vous convaincre ou vous aider à utiliser ces solutions alternatives ?  \\\n",
      "0                                            Inconnu                                                                             \n",
      "1                                            Inconnu                                                                             \n",
      "2                                            Inconnu                                                                             \n",
      "3  Le co-voiturage ne correspond pas toujours aux...                                                                             \n",
      "4  Une piste cyclable pour éviter de risquer ma v...                                                                             \n",
      "5  mettre à disposition des véhicules électriques...                                                                             \n",
      "6  Construire une ligne de chemin de fer ou mettr...                                                                             \n",
      "7                                            Inconnu                                                                             \n",
      "8  la gratuité des transports en commun pour les ...                                                                             \n",
      "9                                            Inconnu                                                                             \n",
      "\n",
      "  QUXVlc3Rpb246MjA3 - Si non, quelles sont les solutions de mobilité alternatives que vous souhaiteriez pouvoir utiliser ?  \\\n",
      "0                                            Inconnu                                                                         \n",
      "1                                            Inconnu                                                                         \n",
      "2  Les transports en commun|L'auto partage|Le tra...                                                                         \n",
      "3                           Les transports en commun                                                                         \n",
      "4    Les transports en commun|Le covoiturage|Le vélo                                                                         \n",
      "5  Les transports en commun|Le transport à la dem...                                                                         \n",
      "6  Les transports en commun|Le covoiturage|L'auto...                                                                         \n",
      "7                                            Le vélo                                                                         \n",
      "8                           Les transports en commun                                                                         \n",
      "9                                            Inconnu                                                                         \n",
      "\n",
      "  QUXVlc3Rpb246MTU3 - Et qui doit selon vous se charger de vous proposer ce type de solutions alternatives ?  \\\n",
      "0                                            Inconnu                                                           \n",
      "1                                            Inconnu                                                           \n",
      "2                                            Inconnu                                                           \n",
      "3                                             L'Etat                                                           \n",
      "4              La commune, le département, la région                                                           \n",
      "5  état, collectivités territoriales, entreprises...                                                           \n",
      "6  Le gouvernement en accord avec les municipalit...                                                           \n",
      "7                              collectivités locales                                                           \n",
      "8                 les métropoles ou les départements                                                           \n",
      "9                                            Inconnu                                                           \n",
      "\n",
      "  QUXVlc3Rpb246MTU4 - Que pourrait faire la France pour faire partager ses choix en matière d'environnement au niveau européen et international ?  \\\n",
      "0             Enseignement du tri sélectif à l'école                                                                                                \n",
      "1  Mettre en oeuvre au niveau national ses engage...                                                                                                \n",
      "2                                            Inconnu                                                                                                \n",
      "3  Elle n'a aucun pouvoir. Impossible de contrain...                                                                                                \n",
      "4                           Demander à Nicolas Hulot                                                                                                \n",
      "5  taxer tout ce qui produit en dehors de l'hexag...                                                                                                \n",
      "6  Etre exemplaire et avoir une vraie politique d...                                                                                                \n",
      "7                      Meilleure cohésion européenne                                                                                                \n",
      "8  supprimer les subventions versées aux grosses ...                                                                                                \n",
      "9                                            Inconnu                                                                                                \n",
      "\n",
      "  QUXVlc3Rpb246MTU5 - Y a-t-il d'autres points sur la transition écologique sur lesquels vous souhaiteriez vous exprimer ?  \n",
      "0             Multiplier les centrales géothermiques                                                                        \n",
      "1  Les problèmes auxquels se trouve confronté l’e...                                                                        \n",
      "2                                            Inconnu                                                                        \n",
      "3                                            Inconnu                                                                        \n",
      "4    Une vrai politique écologique et non économique                                                                        \n",
      "5  Les bonnes idées ne grandissent que par le par...                                                                        \n",
      "6  Pédagogie dans ce sens là dés la petite école ...                                                                        \n",
      "7                                            Inconnu                                                                        \n",
      "8  faire de l'écologie incitative et non punitive...                                                                        \n",
      "9                                            Inconnu                                                                        \n",
      "\n",
      "[10 rows x 21 columns]\n"
     ]
    },
    {
     "name": "stderr",
     "output_type": "stream",
     "text": [
      "C:\\Users\\sanja\\AppData\\Local\\Temp\\ipykernel_19964\\2187434709.py:6: DtypeWarning: Columns (4) have mixed types. Specify dtype option on import or set low_memory=False.\n",
      "  raw_data = pd.read_csv(file_path)\n"
     ]
    }
   ],
   "source": [
    "import pandas as pd\n",
    "import os\n",
    "\n",
    "# Load the CSV file into a DataFrame\n",
    "file_path = 'REPONSE_ECOLOGIE.csv'  \n",
    "raw_data = pd.read_csv(file_path)\n",
    "\n",
    "# Display the first few rows of the DataFrame\n",
    "print(raw_data.head(10))\n",
    "\n",
    "\n"
   ]
  },
  {
   "cell_type": "markdown",
   "metadata": {},
   "source": [
    "We will focus on the last question: ``Y a-t-il d'autres points sur la transition écologique sur lesquels vous souhaiteriez vous exprimer ?`` We hope that our LDA model will help us to analyze the topics on which their responses are focused. Let's take a look on the data :"
   ]
  },
  {
   "cell_type": "code",
   "execution_count": 3,
   "metadata": {},
   "outputs": [
    {
     "name": "stdout",
     "output_type": "stream",
     "text": [
      "Index(['reference', 'title', 'authorId', 'authorType', 'authorZipCode',\n",
      "       'Quel est aujourd'hui pour vous le problème concret le plus important dans le domaine de l'environnement ?',\n",
      "       'Que faudrait-il faire selon vous pour apporter des réponses à ce problème ?',\n",
      "       ' Par rapport à votre mode de chauffage actuel, pensez-vous qu'il existe des solutions alternatives plus écologiques ?',\n",
      "       'Si oui, que faudrait-il faire pour vous convaincre ou vous aider à changer de mode de chauffage ?',\n",
      "       'Avez-vous pour vos déplacements quotidiens la possibilité de recourir à des solutions de mobilité alternatives à la voiture individuelle comme les transports en commun, le covoiturage, l'auto-partage, le transport à la demande, le vélo, etc. ?',\n",
      "       'Si oui, que faudrait-il faire pour vous convaincre ou vous aider à utiliser ces solutions alternatives ?',\n",
      "       'Si non, quelles sont les solutions de mobilité alternatives que vous souhaiteriez pouvoir utiliser ?',\n",
      "       'Et qui doit selon vous se charger de vous proposer ce type de solutions alternatives ?',\n",
      "       'Que pourrait faire la France pour faire partager ses choix en matière d'environnement au niveau européen et international ?',\n",
      "       'Y a-t-il d'autres points sur la transition écologique sur lesquels vous souhaiteriez vous exprimer ?',\n",
      "       'QUXVlc3Rpb246MTU0 - Avez-vous pour vos déplacements quotidiens la possibilité de recourir à des solutions de mobilité alternatives à la voiture individuelle comme les transports en commun, le covoiturage, l'auto-partage, le transport à la demande, le vélo, etc. ?',\n",
      "       'QUXVlc3Rpb246MTU1 - Si oui, que faudrait-il faire pour vous convaincre ou vous aider à utiliser ces solutions alternatives ?',\n",
      "       'QUXVlc3Rpb246MjA3 - Si non, quelles sont les solutions de mobilité alternatives que vous souhaiteriez pouvoir utiliser ?',\n",
      "       'QUXVlc3Rpb246MTU3 - Et qui doit selon vous se charger de vous proposer ce type de solutions alternatives ?',\n",
      "       'QUXVlc3Rpb246MTU4 - Que pourrait faire la France pour faire partager ses choix en matière d'environnement au niveau européen et international ?',\n",
      "       'QUXVlc3Rpb246MTU5 - Y a-t-il d'autres points sur la transition écologique sur lesquels vous souhaiteriez vous exprimer ?'],\n",
      "      dtype='object')\n"
     ]
    }
   ],
   "source": [
    "\n",
    "# List all column names to find the exact name of the question\n",
    "print(raw_data.columns)"
   ]
  },
  {
   "cell_type": "code",
   "execution_count": 4,
   "metadata": {},
   "outputs": [
    {
     "name": "stdout",
     "output_type": "stream",
     "text": [
      "0: reference\n",
      "1: title\n",
      "2: authorId\n",
      "3: authorType\n",
      "4: authorZipCode\n",
      "5: Quel est aujourd'hui pour vous le problème concret\n",
      "6: Que faudrait-il faire selon vous pour apporter des\n",
      "7:  Par rapport à votre mode de chauffage actuel, pen\n",
      "8: Si oui, que faudrait-il faire pour vous convaincre\n",
      "9: Avez-vous pour vos déplacements quotidiens la poss\n",
      "10: Si oui, que faudrait-il faire pour vous convaincre\n",
      "11: Si non, quelles sont les solutions de mobilité alt\n",
      "12: Et qui doit selon vous se charger de vous proposer\n",
      "13: Que pourrait faire la France pour faire partager s\n",
      "14: Y a-t-il d'autres points sur la transition écologi\n",
      "15: QUXVlc3Rpb246MTU0 - Avez-vous pour vos déplacement\n",
      "16: QUXVlc3Rpb246MTU1 - Si oui, que faudrait-il faire \n",
      "17: QUXVlc3Rpb246MjA3 - Si non, quelles sont les solut\n",
      "18: QUXVlc3Rpb246MTU3 - Et qui doit selon vous se char\n",
      "19: QUXVlc3Rpb246MTU4 - Que pourrait faire la France p\n",
      "20: QUXVlc3Rpb246MTU5 - Y a-t-il d'autres points sur l\n"
     ]
    }
   ],
   "source": [
    "for i, col in enumerate(raw_data.columns):\n",
    "    print(f\"{i}: {col[:50]}\")\n"
   ]
  },
  {
   "cell_type": "code",
   "execution_count": 7,
   "metadata": {},
   "outputs": [
    {
     "name": "stdout",
     "output_type": "stream",
     "text": [
      "0                                              Inconnu\n",
      "1                                              Inconnu\n",
      "2                                              Inconnu\n",
      "3                                              Inconnu\n",
      "4    une aide significative pour de l'éolien ou du ...\n",
      "5    rien il n'existe pas de solution fiable actuel...\n",
      "6    Primes et visites à domicile pour étude de la ...\n",
      "7     Aide incitative simple sans condition de revenus\n",
      "8    j'ai déjà réduit ma conso electrique en instal...\n",
      "9                                              Inconnu\n",
      "Name: Y a-t-il d'autres points sur la transition écologique sur lesquels vous souhaiteriez vous exprimer ?, dtype: object\n"
     ]
    }
   ],
   "source": [
    "# Define the question of interest\n",
    "question = \"Y a-t-il d'autres points sur la transition écologique sur lesquels vous souhaiteriez vous exprimer ?\"\n",
    "\n",
    "# Display the first 10 responses to the specified question\n",
    "responses = raw_data[question].head(10)\n",
    "print(responses)\n"
   ]
  },
  {
   "cell_type": "markdown",
   "metadata": {},
   "source": [
    "As we note, there is a lot of missing data (like any open-ended question, people decide whether or not to write a comment). A cleanup step is necessary."
   ]
  },
  {
   "cell_type": "markdown",
   "metadata": {},
   "source": [
    "## 2. Clean and vectorize documents"
   ]
  },
  {
   "cell_type": "markdown",
   "metadata": {},
   "source": [
    "Before training our LDA model, we need to tokenize our text. We will tokenize with the [spaCy]  (https://spacy.io/) library because we will only perform some basic preprocessing. We will just initialize a blank template for the French language."
   ]
  },
  {
   "cell_type": "code",
   "execution_count": 23,
   "metadata": {},
   "outputs": [],
   "source": [
    "import spacy\n",
    "# Load the French language model\n",
    "nlp = spacy.load('fr_core_news_sm')\n",
    "\n",
    "\n",
    "\n"
   ]
  },
  {
   "cell_type": "markdown",
   "metadata": {},
   "source": [
    "Let's remove all the rows from the dataframe that don't have an answer for our question (the `NaNs above). This new dataframe will be called ``texts``."
   ]
  },
  {
   "cell_type": "code",
   "execution_count": 24,
   "metadata": {},
   "outputs": [
    {
     "name": "stdout",
     "output_type": "stream",
     "text": [
      "  reference                  title  \\\n",
      "0       2-4  transition écologique   \n",
      "1       2-5       La surpopulation   \n",
      "2       2-6                 climat   \n",
      "3       2-7      POLLUTION AIR EAU   \n",
      "4       2-8   Economie vs Ecologie   \n",
      "\n",
      "                                            authorId           authorType  \\\n",
      "0  VXNlcjoxMTQwMTc0YS0xZTFmLTExZTktOTRkMi1mYTE2M2...  Citoyen / Citoyenne   \n",
      "1  VXNlcjpjOWYxZWQ1NS0xYzEwLTExZTktOTRkMi1mYTE2M2...  Citoyen / Citoyenne   \n",
      "2  VXNlcjozZjlhNzAwOS0xYTc2LTExZTktOTRkMi1mYTE2M2...  Citoyen / Citoyenne   \n",
      "3  VXNlcjozOWQwNzJjNC0xZDEwLTExZTktOTRkMi1mYTE2M2...  Citoyen / Citoyenne   \n",
      "4  VXNlcjo3M2YxN2NlZS0xZDRiLTExZTktOTRkMi1mYTE2M2...  Citoyen / Citoyenne   \n",
      "\n",
      "  authorZipCode  \\\n",
      "0       97231.0   \n",
      "1       57000.0   \n",
      "2       34140.0   \n",
      "3       17400.0   \n",
      "4       35430.0   \n",
      "\n",
      "  Quel est aujourd'hui pour vous le problème concret le plus important dans le domaine de l'environnement ?  \\\n",
      "0                                            Inconnu                                                          \n",
      "1  Les problèmes auxquels se trouve confronté l’e...                                                          \n",
      "2    Les dérèglements climatiques (crue, sécheresse)                                                          \n",
      "3                              La pollution de l'air                                                          \n",
      "4  La biodiversité et la disparition de certaines...                                                          \n",
      "\n",
      "  Que faudrait-il faire selon vous pour apporter des réponses à ce problème ?  \\\n",
      "0                                            Inconnu                            \n",
      "1  Les problèmes auxquels se trouve confronté l’e...                            \n",
      "2  pour éviter les inondations obliger les rivera...                            \n",
      "3  Il faut taxer les gros pollueurs : Entreprises...                            \n",
      "4  Changer notre mode de vie, impulser une nouvel...                            \n",
      "\n",
      "   Par rapport à votre mode de chauffage actuel, pensez-vous qu'il existe des solutions alternatives plus écologiques ?  \\\n",
      "0                                            Inconnu                                                                      \n",
      "1                                            Inconnu                                                                      \n",
      "2                                                Non                                                                      \n",
      "3                                                Non                                                                      \n",
      "4                                                Oui                                                                      \n",
      "\n",
      "  Si oui, que faudrait-il faire pour vous convaincre ou vous aider à changer de mode de chauffage ?  \\\n",
      "0                                            Inconnu                                                  \n",
      "1                                            Inconnu                                                  \n",
      "2                                            Inconnu                                                  \n",
      "3                                            Inconnu                                                  \n",
      "4  Pollution de l'air, pollution de nos aliments,...                                                  \n",
      "\n",
      "  Avez-vous pour vos déplacements quotidiens la possibilité de recourir à des solutions de mobilité alternatives à la voiture individuelle comme les transports en commun, le covoiturage, l'auto-partage, le transport à la demande, le vélo, etc. ?  \\\n",
      "0                                            Inconnu                                                                                                                                                                                                    \n",
      "1                                            Inconnu                                                                                                                                                                                                    \n",
      "2                                                Non                                                                                                                                                                                                    \n",
      "3                                                Non                                                                                                                                                                                                    \n",
      "4                                                Oui                                                                                                                                                                                                    \n",
      "\n",
      "   ...  \\\n",
      "0  ...   \n",
      "1  ...   \n",
      "2  ...   \n",
      "3  ...   \n",
      "4  ...   \n",
      "\n",
      "  Si non, quelles sont les solutions de mobilité alternatives que vous souhaiteriez pouvoir utiliser ?  \\\n",
      "0                                            Inconnu                                                     \n",
      "1                                            Inconnu                                                     \n",
      "2             développer  les transports en commun ,                                                     \n",
      "3                                            Inconnu                                                     \n",
      "4  Aménagement de piste cyclable, développement d...                                                     \n",
      "\n",
      "  Et qui doit selon vous se charger de vous proposer ce type de solutions alternatives ?  \\\n",
      "0                                            Inconnu                                       \n",
      "1                                            Inconnu                                       \n",
      "2                                            Inconnu                                       \n",
      "3  Plus de transports publics dans les petites co...                                       \n",
      "4  Détaxer le mode de chauffage écologique, une a...                                       \n",
      "\n",
      "  Que pourrait faire la France pour faire partager ses choix en matière d'environnement au niveau européen et international ?  \\\n",
      "0                                            Inconnu                                                                            \n",
      "1                                            Inconnu                                                                            \n",
      "2                                                Non                                                                            \n",
      "3                                                Non                                                                            \n",
      "4                                                Oui                                                                            \n",
      "\n",
      "  Y a-t-il d'autres points sur la transition écologique sur lesquels vous souhaiteriez vous exprimer ?  \\\n",
      "0                                            Inconnu                                                     \n",
      "1                                            Inconnu                                                     \n",
      "2                                            Inconnu                                                     \n",
      "3                                            Inconnu                                                     \n",
      "4  une aide significative pour de l'éolien ou du ...                                                     \n",
      "\n",
      "  QUXVlc3Rpb246MTU0 - Avez-vous pour vos déplacements quotidiens la possibilité de recourir à des solutions de mobilité alternatives à la voiture individuelle comme les transports en commun, le covoiturage, l'auto-partage, le transport à la demande, le vélo, etc. ?  \\\n",
      "0                                            Inconnu                                                                                                                                                                                                                        \n",
      "1                                            Inconnu                                                                                                                                                                                                                        \n",
      "2                                                Oui                                                                                                                                                                                                                        \n",
      "3                                                Non                                                                                                                                                                                                                        \n",
      "4                                                Non                                                                                                                                                                                                                        \n",
      "\n",
      "  QUXVlc3Rpb246MTU1 - Si oui, que faudrait-il faire pour vous convaincre ou vous aider à utiliser ces solutions alternatives ?  \\\n",
      "0                                            Inconnu                                                                             \n",
      "1                                            Inconnu                                                                             \n",
      "2                                            Inconnu                                                                             \n",
      "3  Le co-voiturage ne correspond pas toujours aux...                                                                             \n",
      "4  Une piste cyclable pour éviter de risquer ma v...                                                                             \n",
      "\n",
      "  QUXVlc3Rpb246MjA3 - Si non, quelles sont les solutions de mobilité alternatives que vous souhaiteriez pouvoir utiliser ?  \\\n",
      "0                                            Inconnu                                                                         \n",
      "1                                            Inconnu                                                                         \n",
      "2  Les transports en commun|L'auto partage|Le tra...                                                                         \n",
      "3                           Les transports en commun                                                                         \n",
      "4    Les transports en commun|Le covoiturage|Le vélo                                                                         \n",
      "\n",
      "  QUXVlc3Rpb246MTU3 - Et qui doit selon vous se charger de vous proposer ce type de solutions alternatives ?  \\\n",
      "0                                            Inconnu                                                           \n",
      "1                                            Inconnu                                                           \n",
      "2                                            Inconnu                                                           \n",
      "3                                             L'Etat                                                           \n",
      "4              La commune, le département, la région                                                           \n",
      "\n",
      "  QUXVlc3Rpb246MTU4 - Que pourrait faire la France pour faire partager ses choix en matière d'environnement au niveau européen et international ?  \\\n",
      "0             Enseignement du tri sélectif à l'école                                                                                                \n",
      "1  Mettre en oeuvre au niveau national ses engage...                                                                                                \n",
      "2                                            Inconnu                                                                                                \n",
      "3  Elle n'a aucun pouvoir. Impossible de contrain...                                                                                                \n",
      "4                           Demander à Nicolas Hulot                                                                                                \n",
      "\n",
      "  QUXVlc3Rpb246MTU5 - Y a-t-il d'autres points sur la transition écologique sur lesquels vous souhaiteriez vous exprimer ?  \n",
      "0             Multiplier les centrales géothermiques                                                                        \n",
      "1  Les problèmes auxquels se trouve confronté l’e...                                                                        \n",
      "2                                            Inconnu                                                                        \n",
      "3                                            Inconnu                                                                        \n",
      "4    Une vrai politique écologique et non économique                                                                        \n",
      "\n",
      "[5 rows x 21 columns]\n",
      "Number of rows in the new DataFrame: 153808\n"
     ]
    }
   ],
   "source": [
    "# Remove rows that don't have an answer for the specified question\n",
    "texts = raw_data.dropna(subset=[question])\n",
    "\n",
    "# Display the new DataFrame\n",
    "print(texts.head())\n",
    "print(f\"Number of rows in the new DataFrame: {texts.shape[0]}\")"
   ]
  },
  {
   "cell_type": "markdown",
   "metadata": {},
   "source": [
    "First preprocessing with spacy :"
   ]
  },
  {
   "cell_type": "code",
   "execution_count": 25,
   "metadata": {},
   "outputs": [],
   "source": [
    "# Extract the relevant text column into a list for processing\n",
    "text_data = texts[question].tolist()"
   ]
  },
  {
   "cell_type": "code",
   "execution_count": 26,
   "metadata": {},
   "outputs": [],
   "source": [
    "spacy_docs = list(nlp.pipe(text_data))"
   ]
  },
  {
   "cell_type": "markdown",
   "metadata": {},
   "source": [
    "We now have a list of spaCy documents. We will transform each spaCy document into a list of tokens. Instead of the original tokens, we will work with lemmas instead. This will allow our model to generalize better"
   ]
  },
  {
   "cell_type": "markdown",
   "metadata": {},
   "source": [
    "Here is the full list of preprocessing used: \n",
    " \n",
    "- remove all **words less than 3 characters**,\n",
    "- remove all **stop-words**, and\n",
    "- lemmatize** the remaining words and,\n",
    "- put these words in **minuscule**."
   ]
  },
  {
   "cell_type": "code",
   "execution_count": 29,
   "metadata": {},
   "outputs": [
    {
     "name": "stdout",
     "output_type": "stream",
     "text": [
      "[['inconnu'], ['inconnu'], ['inconnu']]\n"
     ]
    }
   ],
   "source": [
    "# Extract lemmas for tokens longer than 3 characters and not stop words\n",
    "docs = [[token.lemma_.lower() for token in doc if len(token.text) > 3 and not token.is_stop] for doc in spacy_docs]\n",
    "\n",
    "# Print the first three processed documents to verify\n",
    "print(docs[:3])\n"
   ]
  },
  {
   "cell_type": "markdown",
   "metadata": {},
   "source": [
    "In order to preserve some word order in our modeling, we will take into account frequent bigrams. For this, we will use the [Gensim](https://radimrehurek.com/gensim/)library. We would like to point out that the Gensim library is an excellent NLP library for topics modeling. \n",
    "\n",
    "Here is the chosen process: \n",
    "\n",
    "- We first identify the frequent bigrams in the corpus, \n",
    "- then we add them to the list of tokens for the documents in which they appear. This means that the bigrams will not be in their correct position in the text, but this is not a problem: topic models are bag-of-words models that ignore the position of words anyway."
   ]
  },
  {
   "cell_type": "code",
   "execution_count": 30,
   "metadata": {},
   "outputs": [],
   "source": [
    "import re\n",
    "from gensim.models import Phrases\n",
    "\n",
    "bigram = Phrases(docs, min_count=10)\n",
    "\n",
    "for idx in range(len(docs)):\n",
    "    for token in bigram[docs[idx]]:\n",
    "        if '_' in token: \n",
    "            docs[idx].append(token)"
   ]
  },
  {
   "cell_type": "markdown",
   "metadata": {},
   "source": [
    "Let's move on to the last steps of the Gensim specific preprocessing. First, we will create a dictionary representation of the documents. This dictionary will map each word to a unique identifier and will help us create word-sack representations of each document. These bag-of-words representations contain the identifiers of the words in the document as well as their frequency. In addition, we can remove the least frequent and most frequent words from the vocabulary. This will improve the quality of our model and speed up its training. The minimum frequency of a word is expressed as an absolute number, the maximum frequency is the proportion of documents in which a word can appear."
   ]
  },
  {
   "cell_type": "code",
   "execution_count": 31,
   "metadata": {},
   "outputs": [
    {
     "name": "stdout",
     "output_type": "stream",
     "text": [
      "Number of unique words in original documents : 21800\n",
      "Number of unique words after removing rare and common words : 8560\n",
      "Example representation of document 3 : []\n"
     ]
    }
   ],
   "source": [
    "from gensim.corpora import Dictionary\n",
    "\n",
    "dictionary = Dictionary(docs)\n",
    "print('Number of unique words in original documents :', len(dictionary))\n",
    "\n",
    "dictionary.filter_extremes(no_below=3, no_above=0.25)\n",
    "print('Number of unique words after removing rare and common words :', len(dictionary))\n",
    "\n",
    "print(\"Example representation of document 3 :\", dictionary.doc2bow(docs[2]))"
   ]
  },
  {
   "cell_type": "markdown",
   "metadata": {},
   "source": [
    "Next, we create bag-of-words representations for each document in the corpus see method [doc2bow](https://radimrehurek.com/gensim/corpora/dictionary.html) :"
   ]
  },
  {
   "cell_type": "code",
   "execution_count": 32,
   "metadata": {},
   "outputs": [],
   "source": [
    "corpus = [ dictionary.doc2bow(doc) for doc in docs]"
   ]
  },
  {
   "cell_type": "markdown",
   "metadata": {},
   "source": [
    "## 3. Topic Modeling with LDA"
   ]
  },
  {
   "cell_type": "markdown",
   "metadata": {},
   "source": [
    "Now it's time to train our LDA! To do this, we use the following parameters: \n",
    "\n",
    "- **corpus**: the bag-of-words representations of our documents\n",
    "- **id2token**: the mapping of indexes to words\n",
    "- **num_topics** : the number of topics the model should identify (let's set <font color = \"red\"><b>10</b></font>)\n",
    "- **chunksize**: the number of documents the model sees on each update (let's set to <font color = \"red\"><b>1,000</b></font>)\n",
    "- **passes**: the number of times we show the total corpus to the model during training (let's set to <font color = \"red\"><b>5</b></font>)\n",
    "- **random_state**: we use a seed to ensure reproducibility (let's set to <font color = \"red\"><b>1</b></font>)\n",
    "\n",
    "On a corpus of this size, training usually takes one or two minutes."
   ]
  },
  {
   "cell_type": "markdown",
   "metadata": {},
   "source": [
    "**Question 2 :**"
   ]
  },
  {
   "cell_type": "code",
   "execution_count": 33,
   "metadata": {},
   "outputs": [
    {
     "name": "stdout",
     "output_type": "stream",
     "text": [
      "Topic: 0\n",
      "Words: 0.114*\"chauffage\" + 0.043*\"mode\" + 0.038*\"changer\" + 0.037*\"mode_chauffage\" + 0.023*\"écologique\" + 0.019*\"électrique\" + 0.018*\"falloir\" + 0.017*\"chaudière\" + 0.014*\"système\" + 0.013*\"place\"\n",
      "\n",
      "Topic: 1\n",
      "Words: 0.072*\"isolation\" + 0.045*\"logement\" + 0.041*\"maison\" + 0.028*\"falloir\" + 0.026*\"isoler\" + 0.024*\"propriétaire\" + 0.018*\"thermique\" + 0.018*\"voir\" + 0.016*\"énergétique\" + 0.016*\"mieux\"\n",
      "\n",
      "Topic: 2\n",
      "Words: 0.065*\"bois\" + 0.064*\"chauffage\" + 0.048*\"collectif\" + 0.039*\"installer\" + 0.035*\"immeuble\" + 0.029*\"géothermie\" + 0.025*\"chauffe\" + 0.024*\"copropriété\" + 0.021*\"poêle\" + 0.020*\"toit\"\n",
      "\n",
      "Topic: 3\n",
      "Words: 0.203*\"aide\" + 0.136*\"financier\" + 0.090*\"aide_financier\" + 0.021*\"financement\" + 0.020*\"incitation\" + 0.017*\"prêt\" + 0.016*\"investissement\" + 0.015*\"taux\" + 0.014*\"important\" + 0.014*\"condensation\"\n",
      "\n",
      "Topic: 4\n",
      "Words: 0.061*\"solution\" + 0.037*\"information\" + 0.023*\"proposer\" + 0.021*\"technique\" + 0.020*\"exister\" + 0.019*\"entreprise\" + 0.018*\"meilleur\" + 0.017*\"bon\" + 0.017*\"alternative\" + 0.016*\"faire\"\n",
      "\n",
      "Topic: 5\n",
      "Words: 0.134*\"solaire\" + 0.078*\"panneau\" + 0.052*\"panneau_solaire\" + 0.051*\"énergie\" + 0.028*\"électricité\" + 0.025*\"installation\" + 0.024*\"production\" + 0.024*\"fiscal\" + 0.022*\"photovoltaïque\" + 0.019*\"nucléaire\"\n",
      "\n",
      "Topic: 6\n",
      "Words: 0.040*\"propriétaire\" + 0.039*\"convaincre\" + 0.034*\"faire\" + 0.031*\"travail\" + 0.026*\"trop\" + 0.024*\"cher\" + 0.022*\"rien\" + 0.022*\"être\" + 0.021*\"falloir\" + 0.020*\"locatair\"\n",
      "\n",
      "Topic: 7\n",
      "Words: 0.100*\"chaleur\" + 0.076*\"pompe\" + 0.074*\"pompe_chaleur\" + 0.025*\"savoir\" + 0.012*\"trop\" + 0.012*\"élevé\" + 0.011*\"impot\" + 0.011*\"artisan\" + 0.010*\"urbain\" + 0.010*\"installation\"\n",
      "\n",
      "Topic: 8\n",
      "Words: 0.049*\"impôt\" + 0.045*\"prix\" + 0.040*\"crédit\" + 0.038*\"énergie\" + 0.030*\"crédit_impôt\" + 0.027*\"coût\" + 0.021*\"renouvelable\" + 0.019*\"énergie_renouvelable\" + 0.015*\"baisser\" + 0.014*\"alternatif\"\n",
      "\n",
      "Topic: 9\n",
      "Words: 0.055*\"aide\" + 0.023*\"etat\" + 0.021*\"question\" + 0.020*\"revenu\" + 0.019*\"moyen\" + 0.018*\"réduction\" + 0.016*\"payer\" + 0.016*\"changement\" + 0.016*\"aucun\" + 0.016*\"chaudièr\"\n",
      "\n"
     ]
    }
   ],
   "source": [
    "\n",
    "from gensim.models import LdaModel\n",
    "from gensim.corpora import Dictionary\n",
    "\n",
    "\n",
    "# Set LDA model parameters\n",
    "num_topics = 10\n",
    "chunksize = 1000\n",
    "passes = 5\n",
    "random_state = 1\n",
    "\n",
    "# Train the LDA model\n",
    "lda_model = LdaModel(\n",
    "    corpus=corpus,\n",
    "    id2word=dictionary,\n",
    "    num_topics=num_topics,\n",
    "    chunksize=chunksize,\n",
    "    passes=passes,\n",
    "    random_state=random_state\n",
    ")\n",
    "\n",
    "# Print the top topics\n",
    "for idx, topic in lda_model.print_topics(-1):\n",
    "    print(f'Topic: {idx}\\nWords: {topic}\\n')\n"
   ]
  },
  {
   "cell_type": "markdown",
   "metadata": {},
   "source": [
    "## 4. Results and visualization"
   ]
  },
  {
   "cell_type": "markdown",
   "metadata": {},
   "source": [
    "**Question 3 :** Let's see what the model has learned. To do this, let's display the ten most characteristic words for each topic."
   ]
  },
  {
   "cell_type": "code",
   "execution_count": 35,
   "metadata": {},
   "outputs": [
    {
     "name": "stdout",
     "output_type": "stream",
     "text": [
      "***********\n",
      "* topic 1 *\n",
      "***********\n",
      "1 : 0.114*\"chauffage\" + 0.043*\"mode\" + 0.038*\"changer\" + 0.037*\"mode_chauffage\" + 0.023*\"écologique\" + 0.019*\"électrique\" + 0.018*\"falloir\" + 0.017*\"chaudière\" + 0.014*\"système\" + 0.013*\"place\"\n",
      "\n",
      "***********\n",
      "* topic 2 *\n",
      "***********\n",
      "2 : 0.072*\"isolation\" + 0.045*\"logement\" + 0.041*\"maison\" + 0.028*\"falloir\" + 0.026*\"isoler\" + 0.024*\"propriétaire\" + 0.018*\"thermique\" + 0.018*\"voir\" + 0.016*\"énergétique\" + 0.016*\"mieux\"\n",
      "\n",
      "***********\n",
      "* topic 3 *\n",
      "***********\n",
      "3 : 0.065*\"bois\" + 0.064*\"chauffage\" + 0.048*\"collectif\" + 0.039*\"installer\" + 0.035*\"immeuble\" + 0.029*\"géothermie\" + 0.025*\"chauffe\" + 0.024*\"copropriété\" + 0.021*\"poêle\" + 0.020*\"toit\"\n",
      "\n",
      "***********\n",
      "* topic 4 *\n",
      "***********\n",
      "4 : 0.203*\"aide\" + 0.136*\"financier\" + 0.090*\"aide_financier\" + 0.021*\"financement\" + 0.020*\"incitation\" + 0.017*\"prêt\" + 0.016*\"investissement\" + 0.015*\"taux\" + 0.014*\"important\" + 0.014*\"condensation\"\n",
      "\n",
      "***********\n",
      "* topic 5 *\n",
      "***********\n",
      "5 : 0.061*\"solution\" + 0.037*\"information\" + 0.023*\"proposer\" + 0.021*\"technique\" + 0.020*\"exister\" + 0.019*\"entreprise\" + 0.018*\"meilleur\" + 0.017*\"bon\" + 0.017*\"alternative\" + 0.016*\"faire\"\n",
      "\n",
      "***********\n",
      "* topic 6 *\n",
      "***********\n",
      "6 : 0.134*\"solaire\" + 0.078*\"panneau\" + 0.052*\"panneau_solaire\" + 0.051*\"énergie\" + 0.028*\"électricité\" + 0.025*\"installation\" + 0.024*\"production\" + 0.024*\"fiscal\" + 0.022*\"photovoltaïque\" + 0.019*\"nucléaire\"\n",
      "\n",
      "***********\n",
      "* topic 7 *\n",
      "***********\n",
      "7 : 0.040*\"propriétaire\" + 0.039*\"convaincre\" + 0.034*\"faire\" + 0.031*\"travail\" + 0.026*\"trop\" + 0.024*\"cher\" + 0.022*\"rien\" + 0.022*\"être\" + 0.021*\"falloir\" + 0.020*\"locatair\"\n",
      "\n",
      "***********\n",
      "* topic 8 *\n",
      "***********\n",
      "8 : 0.100*\"chaleur\" + 0.076*\"pompe\" + 0.074*\"pompe_chaleur\" + 0.025*\"savoir\" + 0.012*\"trop\" + 0.012*\"élevé\" + 0.011*\"impot\" + 0.011*\"artisan\" + 0.010*\"urbain\" + 0.010*\"installation\"\n",
      "\n",
      "***********\n",
      "* topic 9 *\n",
      "***********\n",
      "9 : 0.049*\"impôt\" + 0.045*\"prix\" + 0.040*\"crédit\" + 0.038*\"énergie\" + 0.030*\"crédit_impôt\" + 0.027*\"coût\" + 0.021*\"renouvelable\" + 0.019*\"énergie_renouvelable\" + 0.015*\"baisser\" + 0.014*\"alternatif\"\n",
      "\n",
      "***********\n",
      "* topic 10 *\n",
      "***********\n",
      "10 : 0.055*\"aide\" + 0.023*\"etat\" + 0.021*\"question\" + 0.020*\"revenu\" + 0.019*\"moyen\" + 0.018*\"réduction\" + 0.016*\"payer\" + 0.016*\"changement\" + 0.016*\"aucun\" + 0.016*\"chaudièr\"\n",
      "\n"
     ]
    }
   ],
   "source": [
    "for (topic, words) in lda_model.print_topics():\n",
    "    print(\"***********\")\n",
    "    print(\"* topic\", topic+1, \"*\")\n",
    "    print(\"***********\")\n",
    "    print(topic+1, \":\", words)\n",
    "    print()"
   ]
  },
  {
   "cell_type": "markdown",
   "metadata": {},
   "source": [
    "Another way to observe topics is to **visualize** them. This can be done with the library [pyLDAvis](https://github.com/bmabey/pyLDAvis). PyLDAvis will show us how popular the topics are in our corpus, how similar the topics are, and which words are most important for that topic. Note that it is important to set ``sort_topics = False`` on the call to pyLDAvis. If you don't, the topics will be sorted differently than in Gensim. This may take a few minutes to load."
   ]
  },
  {
   "cell_type": "markdown",
   "metadata": {},
   "source": [
    "**Question 5 :**"
   ]
  },
  {
   "cell_type": "code",
   "execution_count": 38,
   "metadata": {},
   "outputs": [
    {
     "data": {
      "text/html": [
       "\n",
       "<link rel=\"stylesheet\" type=\"text/css\" href=\"https://cdn.jsdelivr.net/gh/bmabey/pyLDAvis@3.4.0/pyLDAvis/js/ldavis.v1.0.0.css\">\n",
       "\n",
       "\n",
       "<div id=\"ldavis_el1996413598054283367095227588\" style=\"background-color:white;\"></div>\n",
       "<script type=\"text/javascript\">\n",
       "\n",
       "var ldavis_el1996413598054283367095227588_data = {\"mdsDat\": {\"x\": [-0.16753909748175658, -0.19238675426096613, -0.18290132391259706, 0.30576215002995655, -0.0771719251164647, 0.08256942428312564, -0.10390186482558397, 0.06176816209120951, 0.06470016654162157, 0.2091010626514544], \"y\": [-0.13117446674623784, 0.020890071937939618, -0.15759643219271607, -0.1478335861477573, 0.04222486319481934, 0.2811144616653531, -0.005525689705551041, 0.056295932370677544, 0.2374257290090347, -0.1958208833855618], \"topics\": [1, 2, 3, 4, 5, 6, 7, 8, 9, 10], \"cluster\": [1, 1, 1, 1, 1, 1, 1, 1, 1, 1], \"Freq\": [18.589185017050454, 11.546616529745858, 8.037156989734363, 9.06578439774371, 8.14248554163485, 10.238718004773038, 8.306328204910407, 7.746435140507586, 10.288546938968347, 8.038743234931376]}, \"tinfo\": {\"Term\": [\"aide\", \"chauffage\", \"solaire\", \"financier\", \"chaleur\", \"aide_financier\", \"panneau\", \"isolation\", \"pompe\", \"pompe_chaleur\", \"\\u00e9nergie\", \"mode\", \"bois\", \"solution\", \"panneau_solaire\", \"mode_chauffage\", \"imp\\u00f4t\", \"logement\", \"changer\", \"propri\\u00e9taire\", \"prix\", \"collectif\", \"cr\\u00e9dit\", \"maison\", \"convaincre\", \"installer\", \"information\", \"immeuble\", \"travail\", \"cr\\u00e9dit_imp\\u00f4t\", \"mode\", \"mode_chauffage\", \"place\", \"mettre_place\", \"consommer\", \"r\\u00e9sidence\", \"performant\", \"isol\\u00e9\", \"imposer\", \"r\\u00e9cent\", \"temp\\u00e9rature\", \"faible\", \"mise_place\", \"attendre\", \"point\", \"co\\u00fbter\", \"performance\", \"hiver\", \"fili\\u00e8re\", \"bilan\", \"ind\\u00e9pendant\", \"accompagner\", \"co\\u00fbteux\", \"appareil\", \"aimer\", \"froid\", \"soleil\", \"secondaire\", \"dernier\", \"on\\u00e9reux\", \"changer\", \"chauffage\", \"polluant\", \"jour\", \"\\u00e9lectrique\", \"\\u00e9cologique\", \"mise\", \"efficace\", \"syst\\u00e8me\", \"\\u00e9conomique\", \"chaudi\\u00e8re\", \"fioul\", \"environnement\", \"actuel\", \"mettre\", \"fuel\", \"falloir\", \"bien\", \"radiateur\", \"ann\\u00e9e\", \"moyen\", \"cher\", \"passer\", \"chaudi\\u00e8r\", \"changement\", \"solution\", \"utiliser\", \"\\u00eatre\", \"isolation\", \"logement\", \"isoler\", \"thermique\", \"voir\", \"am\\u00e9liorer\", \"neuf\", \"bailleur\", \"passif\", \"construire\", \"meilleur_isolation\", \"fran\\u00e7ais\", \"subventionner\", \"norme\", \"convaincr\", \"lieu\", \"haut\", \"obligatoire\", \"r\\u00e9ponse\", \"mat\\u00e9riau\", \"mieux_isoler\", \"commercial\", \"social\", \"falloir_convaincr\", \"toiture\", \"vivre\", \"augmentation\", \"am\\u00e9liorer_isolation\", \"louer\", \"double\", \"construction\", \"maison\", \"b\\u00e2timent\", \"inciter\", \"fen\\u00eatre\", \"\\u00e9nerg\\u00e9tique\", \"mieux\", \"propri\\u00e9taire\", \"falloir\", \"appartement\", \"consommation\", \"meilleur\", \"travail\", \"ancien\", \"faire\", \"\\u00e9nergie\", \"locatair\", \"chauffer\", \"bien\", \"bois\", \"collectif\", \"installer\", \"chauffe\", \"po\\u00eale\", \"toit\", \"ext\\u00e9rieur\", \"granul\\u00e9\", \"climatisation\", \"installer_panneau\", \"impossible\", \"monde\", \"pose\", \"s\\u00e9rieux\", \"\\u00e9viter\", \"d\\u00e9cision\", \"euro\", \"pellet\", \"g\\u00e9othermique\", \"carbone\", \"isolation_ext\\u00e9rieur\", \"condition_ressource\", \"prendre_compte\", \"chauffe_bois\", \"habitant\", \"participation\", \"terre\", \"habitat_collectif\", \"capteur\", \"pose_panneau\", \"immeuble\", \"prendre\", \"copropri\\u00e9t\\u00e9\", \"g\\u00e9othermie\", \"habitat\", \"ville\", \"utilisation\", \"individuel\", \"donner\", \"chauffage\", \"am\\u00e9lioration\", \"utiliser\", \"chauffer\", \"pouvoir\", \"exemple\", \"chaudi\\u00e8re\", \"financer\", \"financier\", \"aide_financier\", \"financement\", \"pr\\u00eat\", \"taux\", \"condensation\", \"incitation_financier\", \"possibilit\\u00e9\", \"z\\u00e9ro\", \"financi\\u00e8rement\", \"cons\\u00e9quent\", \"d\\u00e9veloppement\", \"pr\\u00eat_taux\", \"gros\", \"tarif\", \"proposition\", \"chaudi\\u00e8re_condensation\", \"facile\", \"accompagnement\", \"m\\u00e9nage\", \"ensuite\", \"soutenir\", \"communication\", \"amortir\", \"origine\", \"consommateur\", \"immeuble_collectif\", \"aider_financi\\u00e8rement\", \"id\\u00e9e\", \"climatique\", \"aide\", \"incitation\", \"important\", \"r\\u00e9aliser\", \"investissement\", \"\\u00e9tat\", \"acc\\u00e8s\", \"faciliter\", \"fonction\", \"changement\", \"aider\", \"chaudi\\u00e8re\", \"installation\", \"moyen\", \"information\", \"technique\", \"exister\", \"bon\", \"alternative\", \"professionnel\", \"venir\", \"abordable\", \"vrai\", \"gain\", \"etc.\", \"situation\", \"expliquer\", \"instant\", \"soci\\u00e9t\\u00e9\", \"sujet\", \"malheureusement\", \"r\\u00e9ellement\", \"prise\", \"conversion\", \"priorit\\u00e9\", \"manque\", \"environnemental\", \"disponible\", \"connaissance\", \"heure\", \"assurer\", \"contr\\u00f4le\", \"domicile\", \"aller\", \"difficile\", \"solution\", \"proposer\", \"entreprise\", \"conseil\", \"adapter\", \"meilleur\", \"choix\", \"\\u00e9tude\", \"local\", \"remplacer\", \"aujourd'hui\", \"faire\", \"\\u00e9cologique\", \"d\\u00e9velopper\", \"prix\", \"charge\", \"produit\", \"\\u00e9tat\", \"co\\u00fbt\", \"solaire\", \"panneau\", \"panneau_solaire\", \"production\", \"photovolta\\u00efque\", \"nucl\\u00e9aire\", \"\\u00e9olien\", \"produire\", \"incitation_fiscal\", \"vert\", \"chaude\", \"panneau_photovolta\\u00efque\", \"fossile\", \"recherche\", \"choisir\", \"d\\u00e9chet\", \"energie\", \"\\u00e9olienne\", \"\\u00e9quiper\", \"\\u00e9nergie_fossile\", \"d\\u00e9duction\", \"pr\\u00e9voir\", \"copropri\\u00e9taire\", \"simplifier\", \"recyclage\", \"demande\", \"alimenter\", \"promouvoir\", \"\\u00e9chelle\", \"batiment\", \"\\u00e9lectricit\\u00e9\", \"fiscal\", \"propre\", \"\\u00e9nergie\", \"france\", \"installation\", \"incitation\", \"\\u00e9lectrique\", \"g\\u00e9othermie\", \"passer\", \"renouvelable\", \"convaincre\", \"r\\u00e9novation\", \"accessible\", \"mat\\u00e9riel\", \"long\", \"financi\\u00e8remer\", \"n\\u00e9cessaire\", \"convaincre_propri\\u00e9taire\", \"offre\", \"avantage\", \"trop_cher\", \"long_terme\", \"\\u00e9conomie_\\u00e9nergie\", \"r\\u00e9duction_imp\\u00f4t\", \"significatif\", \"vendre\", \"national\", \"poser\", \"panneal\", \"panneal_solaire\", \"d\\u00e9cider\", \"uniquement\", \"oeuvre\", \"autoriser\", \"soutien\", \"performante\", \"effectuer\", \"obliger_propri\\u00e9taire\", \"r\\u00e9novation_\\u00e9nerg\\u00e9tique\", \"tenir\", \"budget\", \"rien\", \"terme\", \"public\", \"travail\", \"\\u00e9conomie\", \"locatair\", \"trop\", \"propri\\u00e9taire\", \"subvention\", \"\\u00eatre\", \"cher\", \"beaucoup\", \"faire\", \"locataire\", \"falloir\", \"aider\", \"compte\", \"investissement\", \"pouvoir\", \"vraiment\", \"chaleur\", \"pompe\", \"pompe_chaleur\", \"savoir\", \"\\u00e9lev\\u00e9\", \"impot\", \"artisan\", \"urbain\", \"d\\u00e9marche\", \"pomper\", \"concerner\", \"pomper_chaleur\", \"confiance\", \"apporter\", \"disposer\", \"d\\u00e9pendre\", \"domaine\", \"partir\", \"pays\", \"fiscalit\\u00e9\", \"bas\", \"garantir\", \"global\", \"comp\\u00e9tent\", \"travailler\", \"cr\\u00e9dit_impot\", \"d\\u00e9fiscalisation\", \"former\", \"base\", \"expert\", \"r\\u00e9seau\", \"part\", \"remplacement\", \"fonctionner\", \"trouver\", \"rentable\", \"trop\", \"installation\", \"co\\u00fbt\", \"favoriser\", \"chaudi\\u00e8re\", \"imp\\u00f4t\", \"cr\\u00e9dit\", \"cr\\u00e9dit_imp\\u00f4t\", \"\\u00e9nergie_renouvelable\", \"baisser\", \"alternatif\", \"fiable\", \"taxe\", \"\\u00e9quipement\", \"baisse\", \"location\", \"facture\", \"fournisseur\", \"source\", \"diminuer\", \"diagnostic\", \"installateur\", \"rapport\", \"solution_alternatif\", \"polluer\", \"chemin\\u00e9e\", \"inciter_propri\\u00e9taire\", \"conseiller\", \"centrale\", \"baisser_prix\", \"garantie\", \"profiter\", \"forme\", \"principal\", \"emploi\", \"prix\", \"renouvelable\", \"augmenter\", \"achat\", \"co\\u00fbt\", \"r\\u00e9duire\", \"particulier\", \"cout\", \"\\u00e9nergie\", \"transition\", \"installation\", \"pouvoir\", \"investissement\", \"solution\", \"etat\", \"question\", \"revenu\", \"r\\u00e9duction\", \"aucun\", \"b\\u00e9n\\u00e9ficier\", \"condition\", \"impact\", \"ressource\", \"personne\", \"incitatif\", \"citoyen\", \"vieux\", \"avoir\", \"clair\", \"politique\", \"obtenir\", \"souhaiter\", \"organisme\", \"frais\", \"sens\", \"r\\u00e9pondre\", \"dispositif\", \"revenir\", \"voiture\", \"droit\", \"objectif\", \"classe\", \"cours\", \"offrir\", \"simple\", \"argent\", \"prime\", \"projet\", \"payer\", \"aide\", \"moyen\", \"chaudi\\u00e8r\", \"changement\", \"pouvoir\", \"\\u00e9tat\", \"changer\", \"faire\", \"probl\\u00e8me\"], \"Freq\": [19169.0, 22104.0, 11482.0, 10378.0, 6512.0, 6845.0, 6692.0, 6930.0, 4921.0, 4837.0, 8633.0, 6742.0, 4357.0, 6330.0, 4481.0, 5765.0, 4224.0, 4327.0, 6644.0, 5096.0, 4517.0, 3241.0, 3456.0, 5084.0, 2698.0, 2653.0, 2521.0, 2867.0, 3335.0, 2572.0, 6741.784544322968, 5764.501426329335, 2092.6400783923045, 989.145316565829, 900.1208194607904, 869.9402760869498, 767.1858594936964, 739.1184267853943, 738.0464801428918, 734.849879352551, 717.8293414036915, 668.6817676033663, 608.4188004552342, 582.3699525385431, 579.6253625708383, 556.7559091218146, 528.5344544154042, 523.2727319016648, 460.1279235072873, 457.31316513931296, 451.8497583876546, 430.37554168604794, 414.98031152490944, 377.5334001450993, 376.01376241075866, 373.57296930899025, 361.4488643695186, 359.23843271012475, 352.32802504199395, 352.04615353237557, 5923.070830458605, 17766.84978013074, 1079.6213884199497, 492.9729784779095, 3001.6213554242136, 3650.3116266971097, 884.2140460525762, 1059.1551573048314, 2178.49933813061, 935.555534894539, 2688.21798899771, 1078.1522443456063, 707.7229863498784, 1046.0591855363818, 1810.290131362859, 874.8918491894619, 2873.3940308204646, 1468.8854712995953, 743.9844764781626, 850.9987284421461, 1278.924329361207, 1176.9993010811231, 1026.9966128287233, 1133.5719220632407, 1087.0670797044143, 1287.4816071707887, 955.2076964057032, 922.3661262599262, 6929.302360549581, 4326.870997003547, 2536.813666912128, 1742.4053572647083, 1714.0701722355952, 1225.7159170950395, 754.0863099245704, 735.1555855055391, 693.9448869155726, 651.5256264116298, 648.0220595377249, 620.6319428679849, 620.0392063830109, 589.2785097454972, 559.3886090243598, 536.3655496587045, 533.4076394698411, 533.3038745084957, 519.192516199414, 501.63901121519, 494.1900308392781, 479.4898593618834, 451.560760154985, 436.05617347529517, 433.7417774100305, 419.0536464561818, 415.70845530772044, 415.1710511163452, 412.7287639470493, 399.5363185529339, 1240.4292564858254, 4002.345065744618, 1458.3806807140043, 1361.9301344924963, 718.7481850378714, 1579.4661381105427, 1568.9815929332353, 2338.5451165120558, 2705.2781786016685, 861.2682095082811, 977.2000522535867, 1025.1305354676367, 1167.8987660863497, 676.418845147976, 1062.5432831473388, 933.2817240203751, 683.3800264856982, 668.8320977329895, 654.5659713459687, 4356.562004628755, 3240.2922219796337, 2652.3194025163193, 1705.0822034718797, 1404.3293877492208, 1345.2534440327158, 761.4693401298068, 733.4608439647012, 690.0842026529923, 602.6055757715347, 547.3902037313453, 519.8942950568832, 513.6046299604249, 486.83861699447044, 485.1243524123205, 447.1177634773283, 428.0622528867039, 394.27451325314695, 368.2246474763554, 320.7493465448814, 308.1102824882358, 269.99244982594166, 266.28113433566466, 261.0153258693231, 259.8169132664281, 245.87450213161372, 226.8205296173544, 221.93770216591426, 217.15123990714255, 216.8636667108456, 2392.374452239828, 1060.9690944546405, 1641.4566926461366, 1972.2527226183154, 955.8166517874049, 964.7969460646943, 718.5000693296453, 912.0958580416841, 714.7499252584788, 4337.150350886333, 581.7345700624883, 979.7693347457722, 992.1161329037417, 766.2115120671273, 622.5118623172357, 618.3478187572986, 511.6022428689904, 10377.3959145675, 6844.865499766341, 1566.9113607182753, 1255.4334561188755, 1151.5435671260277, 1032.0202997427664, 960.2493346173844, 843.3737760067205, 768.4283928856715, 750.2953054909069, 732.5965159806659, 702.2940945318859, 676.9056194553136, 637.6846894840406, 625.0950785761775, 561.4610203263899, 480.08695923376825, 452.4414168781539, 416.02069209140103, 376.78903390726236, 343.8349735484984, 320.51952202002474, 314.15574442529316, 302.3086108236799, 296.46453193668015, 282.7165395891448, 278.18728639444794, 269.5876146932607, 266.3608479757389, 246.72322609482853, 15435.229785863006, 1501.167172758398, 1048.7012898898474, 638.2173470231548, 1189.9019912708702, 973.0849508816532, 427.72297711600584, 427.03736287860846, 422.3154267320464, 644.2665011871121, 620.6258396415709, 673.7142062709484, 631.9511501368651, 482.0804240547736, 2520.171836775869, 1462.5100737779137, 1369.4737592875583, 1188.2869862924404, 1176.1719460482375, 872.4897927859503, 865.0067755250167, 644.0496308977314, 628.0488659537135, 505.1756300446489, 487.74580628599574, 424.7589689381695, 423.23698854588577, 394.76091349004736, 394.28326732431185, 393.21069409675346, 392.4758758576289, 391.6417123041397, 389.55879977354647, 368.8208788087147, 368.58765264496606, 316.85106793608225, 312.6255848051941, 310.87518015136055, 309.206185230169, 302.76568955720523, 286.69715737089825, 282.7479903208407, 280.48292351346095, 276.63144814257384, 878.6431601479669, 4194.694224408381, 1540.2732864110928, 1264.510282951613, 934.5719644797922, 668.9169969494752, 1233.9055659919238, 832.3199410516546, 509.6390776401309, 625.4122082377706, 563.1408225168897, 555.2642400797148, 1099.9270249288318, 967.0499957091982, 637.6534971689222, 646.8837072153312, 452.62132273218833, 446.65338511666994, 483.4451463551209, 461.72553849706316, 11481.175651327152, 6691.719868316596, 4480.286013275245, 2069.4344961375537, 1861.7733177338914, 1589.0758852826125, 1352.8020052872062, 1217.201136484728, 1015.2684165588964, 944.5252173429166, 860.440727202232, 721.0123287424899, 714.8500851696721, 672.3490627768012, 625.0103048956687, 597.7776141274043, 572.5403427935944, 519.3153754943912, 501.16466027678354, 499.6320169212641, 488.9649343310334, 456.98651945942305, 413.5342728925516, 394.517067149199, 371.73339275891135, 369.16355196664955, 359.1746584629772, 325.08559999105626, 321.85076600837783, 314.4697814579581, 2434.914593640269, 2019.5780012601372, 978.6602815072954, 4421.336666229746, 872.2272216609247, 2142.7579329124524, 1303.3388280899424, 1029.3476379908739, 798.7946188361258, 729.6534014117556, 592.024483322545, 2697.8396737133876, 1155.3825203772647, 1009.634832518707, 865.2007930348999, 855.9124743861659, 729.1915691514961, 715.5782739303871, 615.5449915353742, 566.2512884035395, 565.1806847668645, 559.270856668336, 553.3556434354615, 510.0462519470862, 506.8796307487722, 474.6636484538103, 429.63377142301147, 409.41710119262694, 401.1627283383328, 373.26909492970947, 358.73036761529016, 352.7742143851584, 351.5668088717529, 347.21347924264046, 340.976877299126, 319.4030883324023, 309.70011433902306, 303.72186908184517, 286.25560755784875, 280.62613085099787, 255.56462394043538, 631.600931790938, 1562.4148505093724, 1099.8393363962807, 926.5849662283744, 2166.7691435868524, 1208.273233727708, 1407.516197368473, 1799.133807519016, 2756.804688843892, 1164.8677532758811, 1536.3676693700743, 1655.570797295397, 903.1559984794394, 2354.44406007868, 781.7988816968369, 1470.699524482619, 840.2567858628998, 601.2735420635876, 825.5684102066836, 697.5323643311192, 570.4736878987928, 6511.954265147155, 4920.713286562976, 4836.690240711283, 1591.8580369708475, 747.5330771823578, 743.0558036658351, 738.8724164587894, 677.7716556373198, 576.741989325847, 515.3675517949346, 512.9672079825086, 468.4348097374467, 442.8459768967449, 441.7915077356875, 438.0489802467496, 435.24447468753516, 431.7136336827861, 427.9916485866971, 425.11771034473105, 398.07696296026654, 388.0790801985178, 373.9908409484429, 363.3974405713199, 360.51844992934537, 347.9684395776695, 337.07806699405836, 334.7055265086254, 334.08514019380806, 327.96934612602274, 324.78778630749065, 645.2347441525807, 600.1142707496421, 635.5464797242875, 479.73902531337166, 638.6855025702928, 418.60552978046974, 806.088941094152, 653.2004124630025, 626.1978454905783, 433.32416938370216, 486.7506976389532, 4223.744850752602, 3455.756173447309, 2571.7115784087473, 1626.4868938239742, 1299.7104414466219, 1198.1427684466853, 1004.4020143047156, 1003.4815211041987, 883.2078414848877, 750.5144149922153, 748.978491642444, 701.9529740717035, 686.9132692072426, 656.8686572394372, 624.4594449847966, 601.7725905666091, 567.5706506997344, 565.8820752778154, 552.4820843138912, 537.7356289420693, 411.69215103589687, 389.0806783727368, 384.78580689826293, 378.9853897961931, 377.9189147641118, 358.5888388284623, 320.724655606065, 307.04053650258896, 305.8416411220572, 301.5925974149654, 3869.633189913837, 1814.6715786529585, 887.7562222837051, 1026.4243359592333, 2365.5366921757723, 967.8192003712691, 913.793546583397, 612.7117449413043, 3278.4216394816203, 593.248103465297, 1148.708008195807, 863.9933696586274, 764.3887564988364, 847.9892926616188, 1560.4424289531562, 1447.5990590449744, 1333.0736433630962, 1224.25379626688, 1073.7021599426653, 912.7844801404741, 862.1727852339559, 805.2935421361841, 781.5695887838933, 757.6975114215925, 736.7972701210839, 659.3851759655201, 652.4450731870608, 633.7551384895048, 599.5384293861557, 591.0408582124905, 505.8632105639305, 487.31923358628484, 486.4962003259172, 485.0941710942468, 471.9004283348844, 458.1003441161483, 456.2308357600501, 424.17002484308995, 416.05777074760493, 401.8103005300041, 389.70381563216336, 386.59820330783344, 378.54478439563775, 362.08226685327173, 888.1481733055862, 952.846781798253, 1029.110177081784, 562.3630075436477, 1101.752288810715, 3733.3813439680775, 1284.2298923420567, 1058.7823863019282, 1085.5145317150768, 904.4225375643595, 698.4574516521973, 720.2916465452834, 683.3979052067624, 534.4944075068566], \"Total\": [19169.0, 22104.0, 11482.0, 10378.0, 6512.0, 6845.0, 6692.0, 6930.0, 4921.0, 4837.0, 8633.0, 6742.0, 4357.0, 6330.0, 4481.0, 5765.0, 4224.0, 4327.0, 6644.0, 5096.0, 4517.0, 3241.0, 3456.0, 5084.0, 2698.0, 2653.0, 2521.0, 2867.0, 3335.0, 2572.0, 6742.693692076853, 5765.4105597653315, 2093.54929410579, 990.0545183948394, 901.0300944671002, 870.8495114040372, 768.0950587268721, 740.027687084891, 738.9558214799463, 735.7590466584005, 718.7385304530472, 669.591120297139, 609.3279692328923, 583.27918259254, 580.5347058182547, 557.6650898873337, 529.4438434678303, 524.1819365290703, 461.03722979478243, 458.22239743392475, 452.75918281265115, 431.28488315388364, 415.88957241767133, 378.44263777056256, 376.923036092589, 374.4821983308279, 362.358121111209, 360.14761828080646, 353.23724720473206, 352.95536681690595, 6644.1674480492, 22104.818105326387, 1224.951391316093, 515.3376372561041, 4038.0271410299397, 5155.819731631277, 1011.147869717054, 1260.3349472749974, 2962.1221245410693, 1098.2925947525923, 4473.353212889264, 1390.2873377550388, 805.6910559697839, 1353.4750441155354, 2974.0989159532814, 1097.5271987594665, 8341.088044399941, 2895.2586490773924, 934.7216661663399, 1244.9030044765805, 3470.5444883709742, 2833.3783194881803, 2087.416518177313, 2849.1295994304883, 3117.4773756083814, 6330.911145800165, 2232.3209071161295, 2459.5420734468385, 6930.211153934139, 4327.779779795183, 2537.722416152368, 1743.3141671111982, 1714.9789866193687, 1226.6247145419475, 754.9950977389868, 736.0643327586819, 694.8536179858319, 652.4344457255987, 648.9307829825591, 621.5409672299727, 620.9480590013732, 590.1873067985259, 560.2973481138923, 537.2744753229927, 534.316443489108, 534.2127366987274, 520.1012845422576, 502.54779167982036, 495.09872039059894, 480.3988634480963, 452.4695587618756, 436.96486228236097, 434.6506914504533, 419.9626128149938, 416.6174486236583, 416.07975225885735, 413.63750147455363, 400.44505827379874, 1369.2756961745324, 5084.07735455832, 1689.9814686219343, 1705.3445411598098, 840.5345410678584, 2426.025940054535, 2418.5268915031556, 5096.157599190907, 8341.088044399941, 1357.5431679856686, 2029.8062588458995, 2259.84528201293, 3335.4757729624625, 1089.781598987451, 6877.209266950617, 8633.74682204362, 2091.704038429812, 2401.916287118229, 2895.2586490773924, 4357.463263427394, 3241.1935342441016, 2653.220695082696, 1705.9834522836393, 1405.2306179693746, 1346.1547719222203, 762.3706686007993, 734.3620698045797, 690.9855156143252, 603.5067899541882, 548.2914745384221, 520.7956500349364, 514.5059165468798, 487.73996645096554, 486.0257152960752, 448.0190728894652, 428.96358135334816, 395.1757317511739, 369.1259748104823, 321.65079238858755, 309.0115464689841, 270.8938292921175, 267.18243584007416, 261.9164978046254, 260.7182483189444, 246.7758650854705, 227.72188774024264, 222.83889529097036, 218.05248528276013, 217.76488564976967, 2867.7131015646373, 1251.3132214394254, 2114.9107317185544, 2771.848239615392, 1311.906747234847, 1480.7967055310637, 1011.4382523306514, 1556.0865182508996, 1122.1981046059789, 22104.818105326387, 869.4669098634406, 2232.3209071161295, 2401.916287118229, 3755.551235754855, 2517.330826059132, 4473.353212889264, 1586.1899781894945, 10378.305195578927, 6845.7747351400485, 1567.8207415331965, 1256.3427755379564, 1152.4528572713723, 1032.9297112767713, 961.158582874506, 844.2832616786404, 769.3376844169838, 751.2046844390276, 733.5058353998478, 703.2035980917974, 677.8148836418222, 638.594132960633, 626.004460155142, 562.3704547224842, 480.996295523549, 453.3509004926794, 416.9299987231817, 377.69845670909865, 344.7445889014942, 321.4292217064544, 315.0652691073624, 303.2180170989586, 297.37414511055135, 283.6260912616005, 279.0968571153806, 270.49685885931854, 267.2704104871733, 247.63278146475173, 19169.416254908276, 2805.3149228154853, 1769.9911992007335, 1038.3951057998033, 3137.6651646724213, 2631.240646096327, 651.5021828956123, 653.8007471972737, 722.9402400167904, 3117.4773756083814, 3062.4365947992833, 4473.353212889264, 4577.219321336404, 3470.5444883709742, 2521.0775715146433, 1463.4158232501645, 1370.379549731634, 1189.1927778385239, 1177.0777168901889, 873.3955624898805, 865.9125906690296, 644.9553447244639, 628.9546692580067, 506.0814374928487, 488.6517144614886, 425.6647733075944, 424.14278128468374, 395.6667661718247, 395.1890566364648, 394.1164997980681, 393.38176612267057, 392.5475005593422, 390.46450729354024, 369.72665845633554, 369.4935105637631, 317.75684198193863, 313.5314452920574, 311.7809805673733, 310.1119948540713, 303.67151436300156, 287.60294277922344, 283.6538342871464, 281.38876998104166, 277.5372448733855, 894.9701727851592, 6330.911145800165, 2151.3086424442704, 1755.70462142346, 1239.2719666558874, 915.5065806197658, 2259.84528201293, 1348.016098312435, 655.231444652118, 966.2343650893802, 925.0315873663982, 928.6701006819668, 6877.209266950617, 5155.819731631277, 1736.294692356369, 4517.321043705894, 849.0701694804283, 833.3303888306733, 2631.240646096327, 3961.0145026415144, 11482.080599758614, 6692.6247866511185, 4481.190916740933, 2070.3394991373625, 1862.678253573431, 1589.980848086579, 1353.7069252114695, 1218.1061070193887, 1016.1733206068112, 945.4302324056009, 861.3456882164404, 721.9172347052272, 715.7550829870701, 673.2541515498602, 625.9154669979727, 598.6825610971107, 573.4453064333015, 520.2202924948899, 502.0698161471913, 500.53697678615987, 489.86993053910044, 457.891640133963, 414.4394194546244, 395.4222028777891, 372.6383614639892, 370.0688052094784, 360.07965030569085, 325.9906149540446, 322.75596411797966, 315.37492603997407, 3258.498756151447, 2751.63231730106, 1266.8379303969634, 8633.74682204362, 1162.6662506646164, 4577.219321336404, 2805.3149228154853, 4038.0271410299397, 2771.848239615392, 2087.416518177313, 2407.499401188941, 2698.744083251008, 1156.286987121437, 1010.5392880623009, 866.1052796022691, 856.8168575647301, 730.0959597686107, 716.4827082607856, 616.4493016693096, 567.1557597145382, 566.0851303612135, 560.175199289461, 554.2600001372795, 510.95066368455775, 507.784093896393, 475.5680777372405, 430.53830787842435, 410.3215822259967, 402.0671989230313, 374.1734664135497, 359.6347262842159, 353.6786633651597, 352.47129702582544, 348.11786342173025, 341.88140795963994, 320.307505136975, 310.6045312872647, 304.62630570956696, 287.15998083728124, 281.5305658458056, 256.46902639826664, 674.0396811389659, 2061.0544741543513, 1371.9915265311479, 1163.5215543475947, 3335.4757729624625, 1654.978802490026, 2091.704038429812, 2911.857517921991, 5096.157599190907, 1667.0945796012043, 2459.5420734468385, 2833.3783194881803, 1401.2648809324833, 6877.209266950617, 1372.4415132283373, 8341.088044399941, 3062.4365947992833, 938.7886457138541, 3137.6651646724213, 3755.551235754855, 948.2981703190824, 6512.854069566078, 4921.613068155521, 4837.590021634798, 1592.757996578053, 748.4329457154266, 743.9556566146492, 739.7723194115262, 678.6715262986182, 577.641920677882, 516.2673440801683, 513.8671453492126, 469.3345956451224, 443.74594463046594, 442.69148184569616, 438.94896149005734, 436.1443996838067, 432.61358530616, 428.8916257179696, 426.0176994318027, 398.9768866701947, 388.9789179264474, 374.8907976535094, 364.297415952424, 361.4183299572066, 348.8684342971514, 337.9778725415561, 335.60540219493964, 334.98511255301594, 328.869365232386, 325.68770420931696, 831.5683665521966, 823.5077686054883, 985.7045711985553, 628.3186434559851, 1182.3419171056712, 544.866192991957, 2911.857517921991, 4577.219321336404, 3961.0145026415144, 1075.274102474264, 4473.353212889264, 4224.648585372109, 3456.659901289973, 2572.6152762322026, 1627.3906484205136, 1300.614172704314, 1199.0465720697277, 1005.3058662646876, 1004.3853528467423, 884.1116909472909, 751.4181606570282, 749.8823720895691, 702.8567851631451, 687.8170763545913, 657.7724909020894, 625.363242541794, 602.6764394577414, 568.4744669194231, 566.785880915643, 553.3858206112249, 538.639467950307, 412.5959940609639, 389.9846207383411, 385.6896751915055, 379.88922893345483, 378.82258700379174, 359.4927424490163, 321.62845738364797, 307.9443803453005, 306.74559528083677, 302.49659131983265, 4517.321043705894, 2407.499401188941, 1101.403150730704, 1329.5217731980592, 3961.0145026415144, 1378.8609146425313, 1287.572483834645, 744.511051951317, 8633.74682204362, 853.5578799971985, 4577.219321336404, 3755.551235754855, 3137.6651646724213, 6330.911145800165, 1561.343621234194, 1448.500241079011, 1333.9747989270638, 1225.1550002152494, 1074.6033857981338, 913.685685009537, 863.0739725319903, 806.1947923092565, 782.4707702494602, 758.5986791727203, 737.6984581760811, 660.2863835390513, 653.3462904501969, 634.6563349476777, 600.4396486515169, 591.9420683614459, 506.7644132486467, 488.22043585776925, 487.397434889933, 485.99535927423017, 472.8016824156152, 459.0014744181733, 457.13203802236757, 425.0711585008334, 416.9589514519299, 402.71142650971586, 390.60501966313814, 387.49935421943076, 379.4459810892775, 362.9835131070466, 1045.9234724408761, 1192.5654975727225, 1326.182911672124, 622.6293107263901, 1521.8055947577495, 19169.416254908276, 3470.5444883709742, 2849.1295994304883, 3117.4773756083814, 3755.551235754855, 2631.240646096327, 6644.1674480492, 6877.209266950617, 1041.1365221057474], \"Category\": [\"Default\", \"Default\", \"Default\", \"Default\", \"Default\", \"Default\", \"Default\", \"Default\", \"Default\", \"Default\", \"Default\", \"Default\", \"Default\", \"Default\", \"Default\", \"Default\", \"Default\", \"Default\", \"Default\", \"Default\", \"Default\", \"Default\", \"Default\", \"Default\", \"Default\", \"Default\", \"Default\", \"Default\", \"Default\", \"Default\", \"Topic1\", \"Topic1\", \"Topic1\", \"Topic1\", \"Topic1\", \"Topic1\", \"Topic1\", \"Topic1\", \"Topic1\", \"Topic1\", \"Topic1\", \"Topic1\", \"Topic1\", \"Topic1\", \"Topic1\", \"Topic1\", \"Topic1\", \"Topic1\", \"Topic1\", \"Topic1\", \"Topic1\", \"Topic1\", \"Topic1\", \"Topic1\", \"Topic1\", \"Topic1\", \"Topic1\", \"Topic1\", \"Topic1\", \"Topic1\", \"Topic1\", \"Topic1\", \"Topic1\", \"Topic1\", \"Topic1\", \"Topic1\", \"Topic1\", \"Topic1\", \"Topic1\", \"Topic1\", \"Topic1\", \"Topic1\", \"Topic1\", \"Topic1\", \"Topic1\", \"Topic1\", \"Topic1\", \"Topic1\", \"Topic1\", \"Topic1\", \"Topic1\", \"Topic1\", \"Topic1\", \"Topic1\", \"Topic1\", \"Topic1\", \"Topic1\", \"Topic1\", \"Topic2\", \"Topic2\", \"Topic2\", \"Topic2\", \"Topic2\", \"Topic2\", \"Topic2\", \"Topic2\", \"Topic2\", \"Topic2\", \"Topic2\", \"Topic2\", \"Topic2\", \"Topic2\", \"Topic2\", \"Topic2\", \"Topic2\", \"Topic2\", \"Topic2\", \"Topic2\", \"Topic2\", \"Topic2\", \"Topic2\", \"Topic2\", \"Topic2\", \"Topic2\", \"Topic2\", \"Topic2\", \"Topic2\", \"Topic2\", \"Topic2\", \"Topic2\", \"Topic2\", \"Topic2\", \"Topic2\", \"Topic2\", \"Topic2\", \"Topic2\", \"Topic2\", \"Topic2\", \"Topic2\", \"Topic2\", \"Topic2\", \"Topic2\", \"Topic2\", \"Topic2\", \"Topic2\", \"Topic2\", \"Topic2\", \"Topic3\", \"Topic3\", \"Topic3\", \"Topic3\", \"Topic3\", \"Topic3\", \"Topic3\", \"Topic3\", \"Topic3\", \"Topic3\", \"Topic3\", \"Topic3\", \"Topic3\", \"Topic3\", \"Topic3\", \"Topic3\", \"Topic3\", \"Topic3\", \"Topic3\", \"Topic3\", \"Topic3\", \"Topic3\", \"Topic3\", \"Topic3\", \"Topic3\", \"Topic3\", \"Topic3\", \"Topic3\", \"Topic3\", \"Topic3\", \"Topic3\", \"Topic3\", \"Topic3\", \"Topic3\", \"Topic3\", \"Topic3\", \"Topic3\", \"Topic3\", \"Topic3\", \"Topic3\", \"Topic3\", \"Topic3\", \"Topic3\", \"Topic3\", \"Topic3\", \"Topic3\", \"Topic3\", \"Topic4\", \"Topic4\", \"Topic4\", \"Topic4\", \"Topic4\", \"Topic4\", \"Topic4\", \"Topic4\", \"Topic4\", \"Topic4\", \"Topic4\", \"Topic4\", \"Topic4\", \"Topic4\", \"Topic4\", \"Topic4\", \"Topic4\", \"Topic4\", \"Topic4\", \"Topic4\", \"Topic4\", \"Topic4\", \"Topic4\", \"Topic4\", \"Topic4\", \"Topic4\", \"Topic4\", \"Topic4\", \"Topic4\", \"Topic4\", \"Topic4\", \"Topic4\", \"Topic4\", \"Topic4\", \"Topic4\", \"Topic4\", \"Topic4\", \"Topic4\", \"Topic4\", \"Topic4\", \"Topic4\", \"Topic4\", \"Topic4\", \"Topic4\", \"Topic5\", \"Topic5\", \"Topic5\", \"Topic5\", \"Topic5\", \"Topic5\", \"Topic5\", \"Topic5\", \"Topic5\", \"Topic5\", \"Topic5\", \"Topic5\", \"Topic5\", \"Topic5\", \"Topic5\", \"Topic5\", \"Topic5\", \"Topic5\", \"Topic5\", \"Topic5\", \"Topic5\", \"Topic5\", \"Topic5\", \"Topic5\", \"Topic5\", \"Topic5\", \"Topic5\", \"Topic5\", \"Topic5\", \"Topic5\", \"Topic5\", \"Topic5\", \"Topic5\", \"Topic5\", \"Topic5\", \"Topic5\", \"Topic5\", \"Topic5\", \"Topic5\", \"Topic5\", \"Topic5\", \"Topic5\", \"Topic5\", \"Topic5\", \"Topic5\", \"Topic5\", \"Topic5\", \"Topic5\", \"Topic5\", \"Topic5\", \"Topic6\", \"Topic6\", \"Topic6\", \"Topic6\", \"Topic6\", \"Topic6\", \"Topic6\", \"Topic6\", \"Topic6\", \"Topic6\", \"Topic6\", \"Topic6\", \"Topic6\", \"Topic6\", \"Topic6\", \"Topic6\", \"Topic6\", \"Topic6\", \"Topic6\", \"Topic6\", \"Topic6\", \"Topic6\", \"Topic6\", \"Topic6\", \"Topic6\", \"Topic6\", \"Topic6\", \"Topic6\", \"Topic6\", \"Topic6\", \"Topic6\", \"Topic6\", \"Topic6\", \"Topic6\", \"Topic6\", \"Topic6\", \"Topic6\", \"Topic6\", \"Topic6\", \"Topic6\", \"Topic6\", \"Topic7\", \"Topic7\", \"Topic7\", \"Topic7\", \"Topic7\", \"Topic7\", \"Topic7\", \"Topic7\", \"Topic7\", \"Topic7\", \"Topic7\", \"Topic7\", \"Topic7\", \"Topic7\", \"Topic7\", \"Topic7\", \"Topic7\", \"Topic7\", \"Topic7\", \"Topic7\", \"Topic7\", \"Topic7\", \"Topic7\", \"Topic7\", \"Topic7\", \"Topic7\", \"Topic7\", \"Topic7\", \"Topic7\", \"Topic7\", \"Topic7\", \"Topic7\", \"Topic7\", \"Topic7\", \"Topic7\", \"Topic7\", \"Topic7\", \"Topic7\", \"Topic7\", \"Topic7\", \"Topic7\", \"Topic7\", \"Topic7\", \"Topic7\", \"Topic7\", \"Topic7\", \"Topic7\", \"Topic7\", \"Topic7\", \"Topic7\", \"Topic7\", \"Topic8\", \"Topic8\", \"Topic8\", \"Topic8\", \"Topic8\", \"Topic8\", \"Topic8\", \"Topic8\", \"Topic8\", \"Topic8\", \"Topic8\", \"Topic8\", \"Topic8\", \"Topic8\", \"Topic8\", \"Topic8\", \"Topic8\", \"Topic8\", \"Topic8\", \"Topic8\", \"Topic8\", \"Topic8\", \"Topic8\", \"Topic8\", \"Topic8\", \"Topic8\", \"Topic8\", \"Topic8\", \"Topic8\", \"Topic8\", \"Topic8\", \"Topic8\", \"Topic8\", \"Topic8\", \"Topic8\", \"Topic8\", \"Topic8\", \"Topic8\", \"Topic8\", \"Topic8\", \"Topic8\", \"Topic9\", \"Topic9\", \"Topic9\", \"Topic9\", \"Topic9\", \"Topic9\", \"Topic9\", \"Topic9\", \"Topic9\", \"Topic9\", \"Topic9\", \"Topic9\", \"Topic9\", \"Topic9\", \"Topic9\", \"Topic9\", \"Topic9\", \"Topic9\", \"Topic9\", \"Topic9\", \"Topic9\", \"Topic9\", \"Topic9\", \"Topic9\", \"Topic9\", \"Topic9\", \"Topic9\", \"Topic9\", \"Topic9\", \"Topic9\", \"Topic9\", \"Topic9\", \"Topic9\", \"Topic9\", \"Topic9\", \"Topic9\", \"Topic9\", \"Topic9\", \"Topic9\", \"Topic9\", \"Topic9\", \"Topic9\", \"Topic9\", \"Topic9\", \"Topic10\", \"Topic10\", \"Topic10\", \"Topic10\", \"Topic10\", \"Topic10\", \"Topic10\", \"Topic10\", \"Topic10\", \"Topic10\", \"Topic10\", \"Topic10\", \"Topic10\", \"Topic10\", \"Topic10\", \"Topic10\", \"Topic10\", \"Topic10\", \"Topic10\", \"Topic10\", \"Topic10\", \"Topic10\", \"Topic10\", \"Topic10\", \"Topic10\", \"Topic10\", \"Topic10\", \"Topic10\", \"Topic10\", \"Topic10\", \"Topic10\", \"Topic10\", \"Topic10\", \"Topic10\", \"Topic10\", \"Topic10\", \"Topic10\", \"Topic10\", \"Topic10\", \"Topic10\", \"Topic10\", \"Topic10\", \"Topic10\", \"Topic10\"], \"logprob\": [30.0, 29.0, 28.0, 27.0, 26.0, 25.0, 24.0, 23.0, 22.0, 21.0, 20.0, 19.0, 18.0, 17.0, 16.0, 15.0, 14.0, 13.0, 12.0, 11.0, 10.0, 9.0, 8.0, 7.0, 6.0, 5.0, 4.0, 3.0, 2.0, 1.0, -3.1409, -3.2976, -4.3108, -5.0602, -5.1545, -5.1886, -5.3143, -5.3516, -5.353, -5.3574, -5.3808, -5.4517, -5.5462, -5.5899, -5.5946, -5.6349, -5.6869, -5.6969, -5.8255, -5.8317, -5.8437, -5.8924, -5.9288, -6.0234, -6.0274, -6.0339, -6.0669, -6.073, -6.0925, -6.0933, -3.2704, -2.1719, -4.9727, -5.7566, -3.9501, -3.7545, -5.1723, -4.9918, -4.2706, -5.1159, -4.0604, -4.974, -5.395, -5.0042, -4.4558, -5.1829, -3.9938, -4.6648, -5.345, -5.2106, -4.8032, -4.8863, -5.0226, -4.9239, -4.9658, -4.7966, -5.0951, -5.1301, -2.6373, -3.1082, -3.6422, -4.0178, -4.0342, -4.3696, -4.8553, -4.8808, -4.9384, -5.0015, -5.0069, -5.0501, -5.0511, -5.1019, -5.154, -5.196, -5.2016, -5.2017, -5.2286, -5.263, -5.2779, -5.3081, -5.3681, -5.4031, -5.4084, -5.4428, -5.4509, -5.4521, -5.458, -5.4905, -4.3576, -3.1862, -4.1958, -4.2642, -4.9033, -4.116, -4.1227, -3.7236, -3.5779, -4.7224, -4.5961, -4.5483, -4.4179, -4.964, -4.5124, -4.6421, -4.9538, -4.9753, -4.9969, -2.7391, -3.0351, -3.2353, -3.6772, -3.8712, -3.9142, -4.4833, -4.5207, -4.5817, -4.7173, -4.8134, -4.8649, -4.8771, -4.9306, -4.9341, -5.0157, -5.0593, -5.1415, -5.2098, -5.3479, -5.3881, -5.5201, -5.534, -5.5539, -5.5585, -5.6137, -5.6944, -5.7161, -5.7379, -5.7393, -3.3385, -4.1516, -3.7152, -3.5316, -4.256, -4.2466, -4.5414, -4.3028, -4.5466, -2.7435, -4.7525, -4.2312, -4.2187, -4.4771, -4.6848, -4.6915, -4.881, -1.9916, -2.4077, -3.8821, -4.1037, -4.1901, -4.2997, -4.3718, -4.5015, -4.5946, -4.6185, -4.6424, -4.6846, -4.7214, -4.7811, -4.801, -4.9084, -5.065, -5.1243, -5.2082, -5.3073, -5.3988, -5.469, -5.4891, -5.5275, -5.547, -5.5945, -5.6107, -5.6421, -5.6541, -5.7307, -1.5945, -3.925, -4.2836, -4.7803, -4.1573, -4.3585, -5.1805, -5.1821, -5.1932, -4.7708, -4.8082, -4.7261, -4.7901, -5.0608, -3.2995, -3.8436, -3.9094, -4.0513, -4.0615, -4.3602, -4.3688, -4.6638, -4.6889, -4.9066, -4.9417, -5.08, -5.0836, -5.1533, -5.1545, -5.1572, -5.1591, -5.1612, -5.1665, -5.2212, -5.2219, -5.3731, -5.3865, -5.3921, -5.3975, -5.4186, -5.4731, -5.487, -5.495, -5.5089, -4.3532, -2.79, -3.7918, -3.9891, -4.2915, -4.6259, -4.0136, -4.4073, -4.8978, -4.6931, -4.798, -4.8121, -4.1285, -4.2573, -4.6737, -4.6594, -5.0165, -5.0298, -4.9506, -4.9966, -2.0122, -2.552, -2.9532, -3.7256, -3.8313, -3.9897, -4.1507, -4.2563, -4.4377, -4.5099, -4.6032, -4.78, -4.7885, -4.8498, -4.9229, -4.9674, -5.0105, -5.1081, -5.1437, -5.1467, -5.1683, -5.236, -5.3359, -5.383, -5.4424, -5.4494, -5.4768, -5.5765, -5.5865, -5.6097, -3.563, -3.75, -4.4744, -2.9664, -4.5896, -3.6908, -4.1879, -4.4239, -4.6775, -4.7681, -4.9771, -3.2513, -4.0993, -4.2341, -4.3885, -4.3993, -4.5595, -4.5784, -4.729, -4.8124, -4.8143, -4.8248, -4.8355, -4.917, -4.9232, -4.9889, -5.0885, -5.1367, -5.1571, -5.2292, -5.2689, -5.2856, -5.2891, -5.3015, -5.3196, -5.385, -5.4159, -5.4353, -5.4946, -5.5144, -5.608, -4.7032, -3.7975, -4.1485, -4.32, -3.4705, -4.0545, -3.9019, -3.6564, -3.2296, -4.0911, -3.8143, -3.7396, -4.3456, -3.3874, -4.4899, -3.858, -4.4178, -4.7524, -4.4354, -4.6039, -4.805, -2.3003, -2.5805, -2.5977, -3.709, -4.4649, -4.4709, -4.4766, -4.5629, -4.7243, -4.8368, -4.8415, -4.9323, -4.9885, -4.9908, -4.9993, -5.0058, -5.0139, -5.0226, -5.0293, -5.095, -5.1205, -5.1574, -5.1862, -5.1941, -5.2296, -5.2614, -5.2684, -5.2703, -5.2888, -5.2985, -4.6121, -4.6846, -4.6272, -4.9084, -4.6223, -5.0447, -4.3895, -4.5998, -4.642, -5.0102, -4.8939, -3.017, -3.2177, -3.5131, -3.9713, -4.1956, -4.2769, -4.4533, -4.4542, -4.5819, -4.7447, -4.7468, -4.8116, -4.8333, -4.878, -4.9286, -4.9656, -5.0241, -5.0271, -5.0511, -5.0781, -5.3452, -5.4017, -5.4128, -5.428, -5.4308, -5.4833, -5.5949, -5.6385, -5.6424, -5.6564, -3.1046, -3.8618, -4.5768, -4.4316, -3.5967, -4.4904, -4.5479, -4.9476, -3.2704, -4.9799, -4.3191, -4.6039, -4.7264, -4.6226, -3.766, -3.8411, -3.9235, -4.0086, -4.1398, -4.3022, -4.3593, -4.4275, -4.4574, -4.4884, -4.5164, -4.6274, -4.638, -4.6671, -4.7226, -4.7368, -4.8925, -4.9298, -4.9315, -4.9344, -4.9619, -4.9916, -4.9957, -5.0686, -5.0879, -5.1227, -5.1533, -5.1613, -5.1824, -5.2268, -4.3296, -4.2593, -4.1823, -4.7866, -4.1141, -2.8936, -3.9608, -4.1538, -4.1289, -4.3114, -4.5698, -4.5391, -4.5916, -4.8374], \"loglift\": [30.0, 29.0, 28.0, 27.0, 26.0, 25.0, 24.0, 23.0, 22.0, 21.0, 20.0, 19.0, 18.0, 17.0, 16.0, 15.0, 14.0, 13.0, 12.0, 11.0, 10.0, 9.0, 8.0, 7.0, 6.0, 5.0, 4.0, 3.0, 2.0, 1.0, 1.6825, 1.6824, 1.6822, 1.6817, 1.6816, 1.6815, 1.6814, 1.6814, 1.6814, 1.6814, 1.6813, 1.6812, 1.6811, 1.681, 1.681, 1.681, 1.6809, 1.6809, 1.6806, 1.6806, 1.6806, 1.6805, 1.6804, 1.6802, 1.6802, 1.6802, 1.6801, 1.6801, 1.68, 1.68, 1.5677, 1.4641, 1.5563, 1.6382, 1.386, 1.3373, 1.5484, 1.5087, 1.3753, 1.5222, 1.1733, 1.4283, 1.5529, 1.4249, 1.1861, 1.4559, 0.6169, 1.004, 1.4544, 1.3022, 0.6843, 0.8041, 0.9733, 0.761, 0.629, 0.0898, 0.8337, 0.7018, 2.1586, 2.1586, 2.1584, 2.1583, 2.1582, 2.158, 2.1576, 2.1575, 2.1575, 2.1574, 2.1574, 2.1573, 2.1573, 2.1572, 2.1572, 2.1571, 2.1571, 2.1571, 2.157, 2.157, 2.1569, 2.1569, 2.1568, 2.1567, 2.1567, 2.1566, 2.1566, 2.1566, 2.1566, 2.1565, 2.06, 1.9195, 2.0114, 1.9339, 2.0023, 1.7296, 1.726, 1.3798, 1.0328, 1.7038, 1.4278, 1.3683, 1.1094, 1.6819, 0.2912, -0.0659, 1.0401, 0.8803, 0.6719, 2.5209, 2.5208, 2.5208, 2.5206, 2.5205, 2.5204, 2.5199, 2.5199, 2.5198, 2.5196, 2.5194, 2.5194, 2.5193, 2.5192, 2.5192, 2.5191, 2.519, 2.5188, 2.5187, 2.5183, 2.5182, 2.5178, 2.5177, 2.5176, 2.5176, 2.5174, 2.5171, 2.517, 2.517, 2.5169, 2.3399, 2.3561, 2.2677, 2.1808, 2.2044, 2.0927, 2.1791, 1.9869, 2.07, 0.8925, 2.1192, 1.6976, 1.6369, 0.9316, 1.1239, 0.5423, 1.3896, 2.4006, 2.4005, 2.4001, 2.3999, 2.3999, 2.3998, 2.3997, 2.3996, 2.3995, 2.3995, 2.3994, 2.3994, 2.3993, 2.3992, 2.3992, 2.399, 2.3988, 2.3987, 2.3985, 2.3983, 2.398, 2.3978, 2.3978, 2.3977, 2.3976, 2.3975, 2.3974, 2.3973, 2.3973, 2.397, 2.184, 1.7754, 1.8772, 1.9139, 1.4311, 1.4059, 1.9799, 1.9747, 1.8631, 0.824, 0.8044, 0.5076, 0.4206, 0.4267, 2.5077, 2.5075, 2.5074, 2.5073, 2.5073, 2.507, 2.507, 2.5067, 2.5066, 2.5063, 2.5062, 2.5059, 2.5059, 2.5058, 2.5058, 2.5058, 2.5058, 2.5058, 2.5058, 2.5056, 2.5056, 2.5052, 2.5052, 2.5052, 2.5051, 2.5051, 2.5049, 2.5049, 2.5049, 2.5048, 2.4897, 2.0965, 2.174, 2.1799, 2.2259, 2.1943, 1.903, 2.0259, 2.2568, 2.0731, 2.0118, 1.9938, 0.6751, 0.8344, 1.5064, 0.5646, 1.879, 1.8844, 0.8138, 0.3588, 2.2789, 2.2789, 2.2788, 2.2786, 2.2785, 2.2784, 2.2783, 2.2783, 2.2781, 2.278, 2.2779, 2.2777, 2.2777, 2.2776, 2.2775, 2.2775, 2.2774, 2.2773, 2.2772, 2.2772, 2.2771, 2.277, 2.2768, 2.2767, 2.2766, 2.2765, 2.2765, 2.2762, 2.2762, 2.2761, 1.9876, 1.9697, 2.0209, 1.6098, 1.9916, 1.52, 1.5124, 0.9122, 1.0348, 1.2279, 0.8762, 2.4878, 2.4874, 2.4873, 2.4871, 2.4871, 2.4869, 2.4869, 2.4867, 2.4866, 2.4866, 2.4865, 2.4865, 2.4864, 2.4864, 2.4862, 2.486, 2.4859, 2.4859, 2.4857, 2.4856, 2.4856, 2.4856, 2.4856, 2.4855, 2.4853, 2.4852, 2.4852, 2.485, 2.4849, 2.4846, 2.4231, 2.2112, 2.2671, 2.2605, 2.0568, 2.1736, 2.092, 2.0067, 1.8737, 2.1297, 2.0176, 1.9508, 2.0489, 1.4162, 1.9254, 0.7527, 1.1949, 2.0426, 1.153, 0.8047, 1.98, 2.5578, 2.5578, 2.5578, 2.5574, 2.5567, 2.5567, 2.5567, 2.5566, 2.5564, 2.5562, 2.5562, 2.556, 2.5559, 2.5559, 2.5559, 2.5559, 2.5559, 2.5558, 2.5558, 2.5557, 2.5556, 2.5555, 2.5555, 2.5554, 2.5554, 2.5553, 2.5553, 2.5552, 2.5552, 2.5552, 2.3042, 2.2415, 2.1191, 2.2881, 1.9421, 2.2943, 1.2736, 0.611, 0.7133, 1.6491, 0.3398, 2.2739, 2.2739, 2.2738, 2.2736, 2.2734, 2.2734, 2.2732, 2.2732, 2.2731, 2.2729, 2.2729, 2.2729, 2.2728, 2.2728, 2.2727, 2.2726, 2.2725, 2.2725, 2.2725, 2.2725, 2.2719, 2.2718, 2.2718, 2.2718, 2.2718, 2.2716, 2.2713, 2.2712, 2.2712, 2.2711, 2.1194, 1.9915, 2.0585, 2.0154, 1.7586, 1.9202, 1.9312, 2.0793, 1.3058, 1.9103, 0.8917, 0.8047, 0.862, 0.2638, 2.5203, 2.5203, 2.5202, 2.5202, 2.5201, 2.5199, 2.5199, 2.5198, 2.5197, 2.5197, 2.5197, 2.5195, 2.5195, 2.5195, 2.5194, 2.5194, 2.5191, 2.519, 2.519, 2.519, 2.519, 2.5189, 2.5189, 2.5188, 2.5187, 2.5187, 2.5186, 2.5186, 2.5185, 2.5184, 2.3574, 2.2965, 2.2673, 2.4191, 2.1979, 0.8849, 1.5267, 1.531, 1.4659, 1.0972, 1.1946, 0.2991, 0.212, 1.8542]}, \"token.table\": {\"Topic\": [5, 7, 4, 1, 4, 9, 4, 9, 1, 5, 1, 5, 4, 10, 4, 1, 2, 3, 4, 6, 7, 4, 1, 6, 5, 9, 5, 4, 3, 9, 2, 2, 1, 2, 1, 5, 7, 9, 1, 1, 2, 8, 7, 10, 8, 5, 1, 10, 2, 4, 9, 3, 5, 8, 7, 7, 10, 2, 9, 9, 9, 8, 8, 6, 1, 7, 8, 1, 2, 5, 8, 10, 1, 3, 5, 5, 7, 2, 6, 10, 3, 3, 9, 8, 1, 4, 7, 10, 1, 10, 3, 5, 6, 1, 3, 8, 10, 1, 3, 4, 8, 10, 4, 1, 3, 3, 3, 1, 2, 3, 8, 9, 1, 7, 6, 1, 5, 7, 10, 10, 10, 4, 3, 3, 2, 4, 3, 7, 8, 8, 4, 10, 3, 8, 5, 4, 5, 9, 4, 2, 6, 8, 9, 1, 2, 7, 2, 4, 5, 2, 7, 7, 5, 6, 2, 3, 10, 8, 9, 5, 8, 9, 10, 1, 1, 9, 8, 9, 6, 1, 9, 1, 5, 9, 5, 8, 10, 8, 5, 3, 5, 2, 10, 6, 7, 3, 6, 8, 8, 8, 4, 1, 2, 3, 5, 7, 1, 2, 9, 6, 4, 5, 7, 1, 9, 5, 10, 5, 3, 1, 3, 7, 8, 9, 10, 5, 8, 5, 3, 4, 4, 8, 9, 1, 1, 2, 3, 5, 7, 9, 10, 1, 2, 3, 5, 6, 7, 8, 9, 10, 2, 1, 2, 8, 1, 2, 9, 1, 4, 1, 3, 4, 6, 9, 4, 4, 7, 1, 10, 6, 7, 10, 8, 1, 4, 6, 8, 9, 8, 6, 9, 10, 1, 5, 6, 9, 2, 1, 1, 3, 5, 9, 8, 8, 3, 4, 3, 6, 3, 3, 1, 3, 3, 2, 5, 1, 4, 2, 3, 4, 10, 1, 4, 7, 1, 3, 8, 9, 10, 4, 6, 4, 6, 2, 9, 9, 1, 2, 3, 6, 1, 5, 9, 4, 6, 8, 9, 3, 3, 5, 4, 7, 8, 9, 2, 3, 2, 1, 1, 6, 2, 2, 5, 8, 2, 7, 2, 7, 9, 2, 7, 7, 2, 1, 2, 3, 5, 5, 2, 7, 2, 5, 2, 1, 2, 6, 10, 1, 1, 2, 5, 8, 2, 1, 7, 1, 1, 1, 3, 1, 3, 4, 10, 4, 7, 2, 2, 6, 7, 10, 2, 7, 10, 7, 7, 10, 1, 10, 4, 7, 7, 6, 6, 6, 4, 8, 3, 3, 4, 9, 8, 1, 6, 8, 2, 9, 10, 8, 3, 1, 1, 7, 10, 6, 1, 1, 10, 1, 9, 9, 8, 8, 8, 8, 3, 3, 7, 4, 2, 3, 6, 7, 9, 10, 3, 1, 3, 3, 9, 10, 9, 5, 5, 5, 9, 1, 10, 6, 6, 5, 9, 5, 9, 6, 10, 6, 1, 5, 9, 4, 6, 9, 2, 7, 6, 4, 4, 2, 7, 10, 1, 2, 9, 6, 6, 8, 9, 10, 5, 8, 6, 9, 6, 8, 10, 10, 10, 1, 7, 2, 4, 1, 10, 7, 2, 9, 5, 7, 7, 10, 2, 6, 8, 1, 8, 1, 10, 7, 8, 10, 6, 5, 2, 5, 6, 1, 1, 5, 9, 9, 10, 9, 4, 7, 7, 9, 2, 5, 1, 8, 9, 3, 4, 4, 9, 5, 1, 7, 1, 7, 3, 2, 3, 2, 4, 9, 2, 7, 8, 7, 8, 10, 7, 1, 8, 7, 8, 1, 3, 1, 3, 8, 9, 7, 5, 6, 10, 1, 3, 8, 2, 2, 10, 5, 6, 7, 9, 4, 6, 1, 5, 9, 7, 9, 7, 1, 9, 1, 6, 9, 1, 2, 6, 8, 2, 6, 9, 6, 9, 1, 2, 4, 9, 6, 6, 9, 6, 4, 5, 7, 9, 10, 5, 10, 3, 1, 7], \"Freq\": [0.9985187428365726, 0.9994663363723988, 0.9977694127886462, 0.9970208017853823, 0.6569433092269114, 0.34228588307850755, 0.2271493450412346, 0.7717060530208831, 0.7728254795296479, 0.2268235394030611, 0.2687036938974995, 0.7307429724285657, 0.8051888380298441, 0.19473728100844884, 0.9998868301733518, 0.13192109860693418, 0.16653406012261493, 0.09436930073614846, 0.2027797085022429, 0.12996187437019754, 0.2742913931431305, 0.9981631621845304, 0.9975511284686717, 0.9970016347639354, 0.9980642422474484, 0.999127163119343, 0.9990844131405051, 0.9959830319101352, 0.6693756753680362, 0.3300873175783959, 0.9994907044228432, 0.997404939190154, 0.37897501699765423, 0.6203077760058456, 0.6835873935076596, 0.00883602976331875, 0.17672059526637499, 0.1309338955837233, 0.9988303702427133, 0.3646292889046646, 0.6342339752462954, 0.9984380050801673, 0.2004082798692789, 0.7991175343741539, 0.9989560039065256, 0.9979035583801856, 0.997806911971632, 0.9994385037250877, 0.9985179482383705, 0.19338967739350427, 0.8062442888517924, 0.21213130459926888, 0.5976288022974326, 0.1884415142379292, 0.9974218897573278, 0.99808309686474, 0.9989658419659014, 0.9985540220992738, 0.9994435047235715, 0.9995277825528867, 0.9978285692775138, 0.997483365083985, 0.9973565028418756, 0.9956403444711397, 0.346115860462622, 0.6444177773149437, 0.009277332342297084, 0.5073812664260976, 0.22623194656847784, 0.04524638931369557, 0.09498287833027697, 0.1264135762504777, 0.9973323053592092, 0.999893685064133, 0.9989969852989758, 0.06231087156327361, 0.93763025780926, 0.8627313536099899, 0.13668788935796136, 0.9992495395070901, 0.9951732479389294, 0.9979767113777188, 0.9976592415216632, 0.9998688640100093, 0.3486793548222206, 0.20657728105382714, 0.0962316526648263, 0.3483585826466712, 0.8914585681820913, 0.10836572160916863, 0.4663925482652681, 0.5335248090004203, 0.9984376908889776, 0.39801629249391635, 0.08669314307407174, 0.1435526134303455, 0.3716924636252711, 0.6008915174091218, 0.1381513979757579, 0.1506699712551146, 0.1088668783401199, 0.001341275708502504, 0.9979286835827611, 0.8037614204895382, 0.19620156923865184, 0.9994235276536106, 0.9965008015443568, 0.26437224453057867, 0.2785276088046569, 0.41300356940840005, 0.04371509555230041, 0.998555502066082, 0.4154051691242603, 0.584461308470497, 0.9985373951495984, 0.2767029269657493, 0.6172033116233335, 0.10533998828186703, 0.9980517793928199, 0.9992677887736023, 0.998711341802268, 0.9974446781197189, 0.9985737535851977, 0.9996317608833007, 0.9970881208209864, 0.9966188938870334, 0.3589732380537533, 0.6401866945706401, 0.9988425325376936, 0.9983125106225204, 0.999099927839599, 0.9987556425449379, 0.9967004442498627, 0.9983189826532677, 0.996414215275373, 0.2453053148779994, 0.7544752283254257, 0.998211839113497, 0.9977925470156305, 0.48132672551492645, 0.09409765053567139, 0.15124596185576503, 0.2729324523390678, 0.99885675908782, 0.9055882635354578, 0.0934800788165634, 0.9993341158970913, 0.9993103866725586, 0.9976949569929503, 0.9976845364015027, 0.9997242853608737, 0.9992711457891298, 0.9980346062700227, 0.9989397257258911, 0.22365010158875365, 0.7759192742222933, 0.9988246519623235, 0.17595440612554666, 0.8233591675951153, 0.11663678577594257, 0.15804032012064945, 0.5973217210949786, 0.1279975116632097, 0.9988073668239336, 0.9978610369755124, 0.999809092792228, 0.9971066965591486, 0.9997608362828725, 0.9971118743476003, 0.996497404465348, 0.9988776075959598, 0.017877690772875463, 0.9821556368348457, 0.9978200788772729, 0.9974950987518478, 0.9978381051709612, 0.9975236082177373, 0.9985816781372555, 0.9950645863332243, 0.637142405663791, 0.3626810616855426, 0.9988885909200197, 0.9982334086820387, 0.9988598948065902, 0.9980811300328315, 0.9977253805671872, 0.9982241601599365, 0.9981960892435575, 0.9988887221392646, 0.9973760990978301, 0.9982884073758106, 0.19409147622437806, 0.1543516784217606, 0.28393797560420886, 0.3674491448995644, 0.9979440196141035, 0.8402528250840708, 0.1586879745201267, 0.9983583573035784, 0.9992234543934604, 0.9978401723320248, 0.7205084412060071, 0.2790902262379, 0.8787487396739233, 0.12039354201747254, 0.9983049697246081, 0.9991394455288889, 0.9986663006755091, 0.9977536989263561, 0.21093771009481407, 0.24748435666491367, 0.14698107859713974, 0.1418168785383213, 0.19663684839347073, 0.056806200647002654, 0.998993308290463, 0.9978884551046023, 0.9973056684326387, 0.9982020968837706, 0.9970201879135758, 0.653104178651481, 0.3456710641106199, 0.998780996098734, 0.9991171921502234, 0.10760178602622616, 0.15456851154848433, 0.05889016667651567, 0.15994860084979565, 0.34229000581856267, 0.07721155186476499, 0.09931354034582766, 0.3444394765655161, 0.32429821932116987, 0.045317828799779004, 0.030931216482388845, 0.03764496889717092, 0.17635588932400773, 0.016065050421085678, 0.0009591074878260107, 0.023857798759672016, 0.9977918996110551, 0.3236384092197823, 0.27248866063619603, 0.40268802066714293, 0.1439560114284838, 0.8554080348518995, 0.9987010259180724, 0.9977502255181341, 0.9994765080525763, 0.19165421808237057, 0.32278605150715045, 0.14752331260287735, 0.097718433561735, 0.24082865561666303, 0.9998742380808494, 0.9983963299697376, 0.998498882572973, 0.775379283638371, 0.2236947655023501, 0.7341097090985318, 0.1348290604334432, 0.13083143330468883, 0.9975515206448483, 0.4149720590916788, 0.5837273631222948, 0.23554927351183663, 0.7639435897681188, 0.9969332762486474, 0.9970592348253684, 0.9989450539646623, 0.9988120731766041, 0.9979519160929508, 0.0034403682034405613, 0.13159408378160148, 0.7500002683500424, 0.11439224276439867, 0.9991296354407923, 0.9987123598051465, 0.7972467570635254, 0.20227289150640304, 0.9978631156712521, 0.9986293396476948, 0.9976238476402061, 0.9964385804136655, 0.9981452339920794, 0.9990696235214712, 0.7114386609685476, 0.28825531953035977, 0.9969496191346046, 0.9972451168125916, 0.27059850156899207, 0.7287103309857926, 0.9962354180140995, 0.9975362100396694, 0.9977886817457667, 0.9977451788268465, 0.995246722280788, 0.16563721096815362, 0.8341141234438388, 0.9960699768291295, 0.99851798557786, 0.13954871646341327, 0.592658314049071, 0.26779794171521415, 0.9987065241897249, 0.997644547474481, 0.9987154387413385, 0.9998464758999471, 0.9990531928481889, 0.5350557927712295, 0.4644754816661639, 0.9987945975875895, 0.9988453538554717, 0.7986655875848407, 0.20113237631541878, 0.9974752318784341, 0.10153677070449656, 0.04048618072394483, 0.5860856638132966, 0.2718357848607724, 0.9983232083600493, 0.9995725750263226, 0.9991653681088014, 0.1380750966102878, 0.4681881836010234, 0.14266303494702204, 0.25102576899560236, 0.9995399195080311, 0.999160258073937, 0.9983148289701563, 0.3792629033200993, 0.2632530740692454, 0.11377887099602979, 0.2434931580979461, 0.9998252356375245, 0.9967265091529982, 0.9997153289312614, 0.9986112856277861, 0.9566543647480513, 0.042690458467458677, 0.9976278878273037, 0.0921101579654199, 0.6468409969481734, 0.2597713443743864, 0.32652803047256646, 0.6731353834632117, 0.4298908145179662, 0.569787486361101, 0.9988233193332571, 0.9998198198996116, 0.9990466369125232, 0.9977266984141605, 0.9984587918835187, 0.16325479376426727, 0.7871634754754188, 0.04936982317449528, 0.9964874677942249, 0.9976181725082047, 0.998909970974125, 0.9987238507508271, 0.45357087414718655, 0.5460550816562226, 0.9985656667753052, 0.6085876936678297, 0.10255206992745196, 0.11936388466965721, 0.1694630926014288, 0.9989348885589159, 0.27206643941471403, 0.6487420113095537, 0.0004134748319372554, 0.07856021806807853, 0.9977808054326375, 0.8742539310767342, 0.12461085442948927, 0.9978206002351014, 0.9998971194438703, 0.999928789153682, 0.998472241396634, 0.3685300690671581, 0.12245917072208146, 0.1388831065601018, 0.36997076519330024, 0.9981507557240653, 0.996779154976867, 0.9986819811917099, 0.997988254262928, 0.9993831069803392, 0.9993262806551783, 0.9984510704351421, 0.9977298618782064, 0.9959605066350157, 0.9984915806464263, 0.9967888363706978, 0.9979621828840811, 0.9972904744388307, 0.9972932361801952, 0.9971328636757217, 0.9953790699926501, 0.9968638438615186, 0.9982350806587174, 0.9999066454984351, 0.9987294461731452, 0.9997342410169395, 0.2707928309864323, 0.7285905766451093, 0.9968559928451601, 0.16076764811213823, 0.1289247806116664, 0.7098629486690547, 0.9979210931981314, 0.491995723448981, 0.34971458434056096, 0.15809015456491113, 0.9987715139365522, 0.27533083164062033, 0.7241398006395312, 0.9976111334501828, 0.9970247875648544, 0.9991616798017271, 0.9985743187455376, 0.9980536945653713, 0.9992108091021551, 0.9996358718570264, 0.9997376254252353, 0.9990789425457328, 0.9984085125693911, 0.8816676381253329, 0.11837204400756784, 0.9988128089596918, 0.9998754334916151, 0.9998780339730817, 0.9975451786856162, 0.9971564089723922, 0.9990166944040697, 0.9964875620443241, 0.9973457200042931, 0.9984800578942084, 0.04926041169101918, 0.20396473165038212, 0.09000010352197019, 0.18585820194773725, 0.23005943622184094, 0.24071033604692615, 0.9991242590691961, 0.15184047986117893, 0.847909205961636, 0.9955744252560751, 0.22319696430621852, 0.775911068483442, 0.9975693366349592, 0.9986643593198427, 0.9988103725566252, 0.14322648174441413, 0.8567024487648882, 0.4860073479860175, 0.5129010352263504, 0.9993530050806061, 0.9990919452640336, 0.5364018953241692, 0.46320163667814157, 0.9984021415383632, 0.9980460143708667, 0.09475943227145488, 0.9026237446874177, 0.9969612163399727, 0.14363350469736452, 0.7158433567441468, 0.13991483790908324, 0.9975630748184301, 0.7727902492572436, 0.22654831617653617, 0.45897324689710384, 0.5409958280014174, 0.9980527267680578, 0.9989312028818079, 0.998797778476855, 0.20283251231416077, 0.79671923269164, 0.999654648950118, 0.7959588687522734, 0.203269065944801, 0.9986134430265386, 0.9981371796267826, 0.9982869142578846, 0.645223750181724, 0.15318991553056654, 0.2008715448678952, 0.6086278649174386, 0.3902569435793878, 0.2458982958449092, 0.753894268510997, 0.22941412333476374, 0.7689961414181281, 0.9993983542039403, 0.9974800489767143, 0.9992692523668004, 0.24162389021975217, 0.757864491010548, 0.38424680333280087, 0.6144096755045788, 0.9989683488611552, 0.9990572619668152, 0.998455851796427, 0.2973468865830403, 0.7020287468594708, 0.9986052629081523, 0.9988869656618371, 0.9981154236513836, 0.9978181455311386, 0.9978825575421778, 0.22367373204825367, 0.7756427804899119, 0.9990245026345969, 0.9995240980866638, 0.9968134780780039, 0.9983044002476488, 0.9988054754643259, 0.15010658440775634, 0.8490104901534244, 0.9989322732140067, 0.998438270326133, 0.9989622312644403, 0.9969911701336441, 0.9999058881577058, 0.9962519920705952, 0.2032882740510072, 0.66262184121521, 0.133945964565077, 0.9974957424646439, 0.9975002360242765, 0.9988255956082475, 0.998664646281456, 0.9959179690890606, 0.6988205793810971, 0.300522841433416, 0.9984732072391082, 0.9971670818180914, 0.7352836609791854, 0.13132476773227875, 0.13301274675197386, 0.9984828668924757, 0.9983954424943025, 0.9996070492007417, 0.9986206958884697, 0.9997158543432714, 0.9989724629726171, 0.9981712162094057, 0.19752308579133748, 0.8017542227692666, 0.9968299589143311, 0.9992461673655897, 0.9991421700191492, 0.9985029554461724, 0.304607345433743, 0.6947390609315754, 0.35017493140494915, 0.6496824283857232, 0.9975107111685212, 0.617818690965289, 0.27679925787549914, 0.10508755944156667, 0.9979020861849084, 0.45925801339196676, 0.540452800289994, 0.9986628782831332, 0.9990105282561644, 0.28869780169688664, 0.7108689021234983, 0.4278058754705374, 0.4390049821582478, 0.06271499745117826, 0.07033038999882134, 0.998749686453972, 0.9989460937756726, 0.9995449347917442, 0.9979393922183759, 0.3410326333883151, 0.6516762202370773, 0.006753121453233962, 0.9977078606865943, 0.9994291553266792, 0.9977001298363048, 0.9984821334435232, 0.17821398932272015, 0.6010767687216005, 0.21934029455104018, 0.9982612519260673, 0.997657784202236, 0.7079378624522151, 0.18755504465514852, 0.10434810136966897, 0.7299187144768763, 0.26948985650387985, 0.9981394217639286, 0.8522319138561147, 0.14750167739817371, 0.13656595668785257, 0.7472766394043169, 0.11600434073709724, 0.7434323483111382, 0.00148587411387969, 0.25482741053036684, 0.9994215303883867, 0.1080643223887306, 0.5120604172353461, 0.3796729354665154, 0.998927198566612, 0.9991454735088571, 0.09150767777652435, 0.650858663104198, 0.05234898683611979, 0.20486178313032705, 0.99947778562826, 0.9976542774042173, 0.998742589925375, 0.9978691884817914, 0.36978753784589397, 0.18356359792350133, 0.10641367995565294, 0.07448957596895706, 0.2652741021751634, 0.7783509234218365, 0.22129585077679667, 0.9978895863659182, 0.3748665289989919, 0.6245064951653488], \"Term\": [\"abordable\", \"accessible\", \"accompagnement\", \"accompagner\", \"acc\\u00e8s\", \"acc\\u00e8s\", \"achat\", \"achat\", \"actuel\", \"actuel\", \"adapter\", \"adapter\", \"aide\", \"aide\", \"aide_financier\", \"aider\", \"aider\", \"aider\", \"aider\", \"aider\", \"aider\", \"aider_financi\\u00e8rement\", \"aimer\", \"alimenter\", \"aller\", \"alternatif\", \"alternative\", \"amortir\", \"am\\u00e9lioration\", \"am\\u00e9lioration\", \"am\\u00e9liorer\", \"am\\u00e9liorer_isolation\", \"ancien\", \"ancien\", \"ann\\u00e9e\", \"ann\\u00e9e\", \"ann\\u00e9e\", \"ann\\u00e9e\", \"appareil\", \"appartement\", \"appartement\", \"apporter\", \"argent\", \"argent\", \"artisan\", \"assurer\", \"attendre\", \"aucun\", \"augmentation\", \"augmenter\", \"augmenter\", \"aujourd'hui\", \"aujourd'hui\", \"aujourd'hui\", \"autoriser\", \"avantage\", \"avoir\", \"bailleur\", \"baisse\", \"baisser\", \"baisser_prix\", \"bas\", \"base\", \"batiment\", \"beaucoup\", \"beaucoup\", \"beaucoup\", \"bien\", \"bien\", \"bien\", \"bien\", \"bien\", \"bilan\", \"bois\", \"bon\", \"budget\", \"budget\", \"b\\u00e2timent\", \"b\\u00e2timent\", \"b\\u00e9n\\u00e9ficier\", \"capteur\", \"carbone\", \"centrale\", \"chaleur\", \"changement\", \"changement\", \"changement\", \"changement\", \"changer\", \"changer\", \"charge\", \"charge\", \"chaude\", \"chaudi\\u00e8r\", \"chaudi\\u00e8r\", \"chaudi\\u00e8r\", \"chaudi\\u00e8r\", \"chaudi\\u00e8re\", \"chaudi\\u00e8re\", \"chaudi\\u00e8re\", \"chaudi\\u00e8re\", \"chaudi\\u00e8re\", \"chaudi\\u00e8re_condensation\", \"chauffage\", \"chauffage\", \"chauffe\", \"chauffe_bois\", \"chauffer\", \"chauffer\", \"chauffer\", \"chauffer\", \"chemin\\u00e9e\", \"cher\", \"cher\", \"choisir\", \"choix\", \"choix\", \"choix\", \"citoyen\", \"clair\", \"classe\", \"climatique\", \"climatisation\", \"collectif\", \"commercial\", \"communication\", \"compte\", \"compte\", \"comp\\u00e9tent\", \"concerner\", \"condensation\", \"condition\", \"condition_ressource\", \"confiance\", \"connaissance\", \"conseil\", \"conseil\", \"conseiller\", \"consommateur\", \"consommation\", \"consommation\", \"consommation\", \"consommation\", \"consommer\", \"construction\", \"construction\", \"construire\", \"cons\\u00e9quent\", \"contr\\u00f4le\", \"convaincr\", \"convaincre\", \"convaincre_propri\\u00e9taire\", \"conversion\", \"copropri\\u00e9taire\", \"copropri\\u00e9t\\u00e9\", \"copropri\\u00e9t\\u00e9\", \"cours\", \"cout\", \"cout\", \"co\\u00fbt\", \"co\\u00fbt\", \"co\\u00fbt\", \"co\\u00fbt\", \"co\\u00fbter\", \"co\\u00fbteux\", \"cr\\u00e9dit\", \"cr\\u00e9dit_impot\", \"cr\\u00e9dit_imp\\u00f4t\", \"demande\", \"dernier\", \"diagnostic\", \"difficile\", \"difficile\", \"diminuer\", \"disponible\", \"disposer\", \"dispositif\", \"domaine\", \"domicile\", \"donner\", \"donner\", \"double\", \"droit\", \"d\\u00e9chet\", \"d\\u00e9cider\", \"d\\u00e9cision\", \"d\\u00e9duction\", \"d\\u00e9fiscalisation\", \"d\\u00e9marche\", \"d\\u00e9pendre\", \"d\\u00e9veloppement\", \"d\\u00e9velopper\", \"d\\u00e9velopper\", \"d\\u00e9velopper\", \"d\\u00e9velopper\", \"effectuer\", \"efficace\", \"efficace\", \"emploi\", \"energie\", \"ensuite\", \"entreprise\", \"entreprise\", \"environnement\", \"environnement\", \"environnemental\", \"etat\", \"etc.\", \"euro\", \"exemple\", \"exemple\", \"exemple\", \"exemple\", \"exemple\", \"exemple\", \"exister\", \"expert\", \"expliquer\", \"ext\\u00e9rieur\", \"facile\", \"faciliter\", \"faciliter\", \"facture\", \"faible\", \"faire\", \"faire\", \"faire\", \"faire\", \"faire\", \"faire\", \"faire\", \"falloir\", \"falloir\", \"falloir\", \"falloir\", \"falloir\", \"falloir\", \"falloir\", \"falloir\", \"falloir\", \"falloir_convaincr\", \"favoriser\", \"favoriser\", \"favoriser\", \"fen\\u00eatre\", \"fen\\u00eatre\", \"fiable\", \"fili\\u00e8re\", \"financement\", \"financer\", \"financer\", \"financer\", \"financer\", \"financer\", \"financier\", \"financi\\u00e8rement\", \"financi\\u00e8remer\", \"fioul\", \"fioul\", \"fiscal\", \"fiscal\", \"fiscal\", \"fiscalit\\u00e9\", \"fonction\", \"fonction\", \"fonctionner\", \"fonctionner\", \"forme\", \"former\", \"fossile\", \"fournisseur\", \"frais\", \"france\", \"france\", \"france\", \"france\", \"fran\\u00e7ais\", \"froid\", \"fuel\", \"fuel\", \"gain\", \"garantie\", \"garantir\", \"global\", \"granul\\u00e9\", \"gros\", \"g\\u00e9othermie\", \"g\\u00e9othermie\", \"g\\u00e9othermique\", \"habitant\", \"habitat\", \"habitat\", \"habitat_collectif\", \"haut\", \"heure\", \"hiver\", \"id\\u00e9e\", \"immeuble\", \"immeuble\", \"immeuble_collectif\", \"impact\", \"important\", \"important\", \"important\", \"imposer\", \"impossible\", \"impot\", \"imp\\u00f4t\", \"incitatif\", \"incitation\", \"incitation\", \"incitation_financier\", \"incitation_fiscal\", \"inciter\", \"inciter\", \"inciter_propri\\u00e9taire\", \"individuel\", \"individuel\", \"individuel\", \"individuel\", \"ind\\u00e9pendant\", \"information\", \"installateur\", \"installation\", \"installation\", \"installation\", \"installation\", \"installer\", \"installer_panneau\", \"instant\", \"investissement\", \"investissement\", \"investissement\", \"investissement\", \"isolation\", \"isolation_ext\\u00e9rieur\", \"isoler\", \"isol\\u00e9\", \"jour\", \"jour\", \"lieu\", \"local\", \"local\", \"local\", \"locatair\", \"locatair\", \"locataire\", \"locataire\", \"location\", \"logement\", \"long\", \"long_terme\", \"louer\", \"maison\", \"maison\", \"maison\", \"malheureusement\", \"manque\", \"mat\\u00e9riau\", \"mat\\u00e9riel\", \"meilleur\", \"meilleur\", \"meilleur_isolation\", \"mettre\", \"mettre\", \"mettre\", \"mettre\", \"mettre_place\", \"mieux\", \"mieux\", \"mieux\", \"mieux\", \"mieux_isoler\", \"mise\", \"mise\", \"mise_place\", \"mode\", \"mode_chauffage\", \"monde\", \"moyen\", \"moyen\", \"moyen\", \"moyen\", \"m\\u00e9nage\", \"national\", \"neuf\", \"norme\", \"nucl\\u00e9aire\", \"n\\u00e9cessaire\", \"objectif\", \"obligatoire\", \"obliger_propri\\u00e9taire\", \"obtenir\", \"oeuvre\", \"offre\", \"offrir\", \"on\\u00e9reux\", \"organisme\", \"origine\", \"panneal\", \"panneal_solaire\", \"panneau\", \"panneau_photovolta\\u00efque\", \"panneau_solaire\", \"part\", \"part\", \"participation\", \"particulier\", \"particulier\", \"particulier\", \"partir\", \"passer\", \"passer\", \"passer\", \"passif\", \"payer\", \"payer\", \"pays\", \"pellet\", \"performance\", \"performant\", \"performante\", \"personne\", \"photovolta\\u00efque\", \"place\", \"point\", \"politique\", \"polluant\", \"polluant\", \"polluer\", \"pompe\", \"pompe_chaleur\", \"pomper\", \"pomper_chaleur\", \"pose\", \"pose_panneau\", \"poser\", \"possibilit\\u00e9\", \"pouvoir\", \"pouvoir\", \"pouvoir\", \"pouvoir\", \"pouvoir\", \"pouvoir\", \"po\\u00eale\", \"prendre\", \"prendre\", \"prendre_compte\", \"prime\", \"prime\", \"principal\", \"priorit\\u00e9\", \"prise\", \"prix\", \"prix\", \"probl\\u00e8me\", \"probl\\u00e8me\", \"production\", \"produire\", \"produit\", \"produit\", \"professionnel\", \"profiter\", \"projet\", \"projet\", \"promouvoir\", \"proposer\", \"proposer\", \"proposer\", \"proposition\", \"propre\", \"propre\", \"propri\\u00e9taire\", \"propri\\u00e9taire\", \"pr\\u00e9voir\", \"pr\\u00eat\", \"pr\\u00eat_taux\", \"public\", \"public\", \"question\", \"radiateur\", \"radiateur\", \"rapport\", \"recherche\", \"recyclage\", \"remplacement\", \"remplacement\", \"remplacement\", \"remplacer\", \"remplacer\", \"renouvelable\", \"renouvelable\", \"rentable\", \"rentable\", \"ressource\", \"revenir\", \"revenu\", \"rien\", \"rien\", \"r\\u00e9aliser\", \"r\\u00e9aliser\", \"r\\u00e9cent\", \"r\\u00e9duction\", \"r\\u00e9duction_imp\\u00f4t\", \"r\\u00e9duire\", \"r\\u00e9duire\", \"r\\u00e9ellement\", \"r\\u00e9novation\", \"r\\u00e9novation_\\u00e9nerg\\u00e9tique\", \"r\\u00e9pondre\", \"r\\u00e9ponse\", \"r\\u00e9seau\", \"r\\u00e9seau\", \"r\\u00e9sidence\", \"savoir\", \"secondaire\", \"sens\", \"significatif\", \"simple\", \"simple\", \"simplifier\", \"situation\", \"social\", \"soci\\u00e9t\\u00e9\", \"solaire\", \"soleil\", \"solution\", \"solution\", \"solution\", \"solution_alternatif\", \"souhaiter\", \"source\", \"soutenir\", \"soutien\", \"subvention\", \"subvention\", \"subventionner\", \"sujet\", \"syst\\u00e8me\", \"syst\\u00e8me\", \"syst\\u00e8me\", \"s\\u00e9rieux\", \"tarif\", \"taux\", \"taxe\", \"technique\", \"temp\\u00e9rature\", \"tenir\", \"terme\", \"terme\", \"terre\", \"thermique\", \"toit\", \"toiture\", \"transition\", \"transition\", \"travail\", \"travail\", \"travailler\", \"trop\", \"trop\", \"trop\", \"trop_cher\", \"trouver\", \"trouver\", \"uniquement\", \"urbain\", \"utilisation\", \"utilisation\", \"utiliser\", \"utiliser\", \"utiliser\", \"utiliser\", \"vendre\", \"venir\", \"vert\", \"vieux\", \"ville\", \"ville\", \"ville\", \"vivre\", \"voir\", \"voiture\", \"vrai\", \"vraiment\", \"vraiment\", \"vraiment\", \"z\\u00e9ro\", \"\\u00e9chelle\", \"\\u00e9cologique\", \"\\u00e9cologique\", \"\\u00e9cologique\", \"\\u00e9conomie\", \"\\u00e9conomie\", \"\\u00e9conomie_\\u00e9nergie\", \"\\u00e9conomique\", \"\\u00e9conomique\", \"\\u00e9lectricit\\u00e9\", \"\\u00e9lectricit\\u00e9\", \"\\u00e9lectricit\\u00e9\", \"\\u00e9lectrique\", \"\\u00e9lectrique\", \"\\u00e9lectrique\", \"\\u00e9lev\\u00e9\", \"\\u00e9nergie\", \"\\u00e9nergie\", \"\\u00e9nergie\", \"\\u00e9nergie_fossile\", \"\\u00e9nergie_renouvelable\", \"\\u00e9nerg\\u00e9tique\", \"\\u00e9nerg\\u00e9tique\", \"\\u00e9nerg\\u00e9tique\", \"\\u00e9nerg\\u00e9tique\", \"\\u00e9olien\", \"\\u00e9olienne\", \"\\u00e9quipement\", \"\\u00e9quiper\", \"\\u00e9tat\", \"\\u00e9tat\", \"\\u00e9tat\", \"\\u00e9tat\", \"\\u00e9tat\", \"\\u00e9tude\", \"\\u00e9tude\", \"\\u00e9viter\", \"\\u00eatre\", \"\\u00eatre\"]}, \"R\": 30, \"lambda.step\": 0.01, \"plot.opts\": {\"xlab\": \"PC1\", \"ylab\": \"PC2\"}, \"topic.order\": [1, 2, 3, 4, 5, 6, 7, 8, 9, 10]};\n",
       "\n",
       "function LDAvis_load_lib(url, callback){\n",
       "  var s = document.createElement('script');\n",
       "  s.src = url;\n",
       "  s.async = true;\n",
       "  s.onreadystatechange = s.onload = callback;\n",
       "  s.onerror = function(){console.warn(\"failed to load library \" + url);};\n",
       "  document.getElementsByTagName(\"head\")[0].appendChild(s);\n",
       "}\n",
       "\n",
       "if(typeof(LDAvis) !== \"undefined\"){\n",
       "   // already loaded: just create the visualization\n",
       "   !function(LDAvis){\n",
       "       new LDAvis(\"#\" + \"ldavis_el1996413598054283367095227588\", ldavis_el1996413598054283367095227588_data);\n",
       "   }(LDAvis);\n",
       "}else if(typeof define === \"function\" && define.amd){\n",
       "   // require.js is available: use it to load d3/LDAvis\n",
       "   require.config({paths: {d3: \"https://d3js.org/d3.v5\"}});\n",
       "   require([\"d3\"], function(d3){\n",
       "      window.d3 = d3;\n",
       "      LDAvis_load_lib(\"https://cdn.jsdelivr.net/gh/bmabey/pyLDAvis@3.4.0/pyLDAvis/js/ldavis.v3.0.0.js\", function(){\n",
       "        new LDAvis(\"#\" + \"ldavis_el1996413598054283367095227588\", ldavis_el1996413598054283367095227588_data);\n",
       "      });\n",
       "    });\n",
       "}else{\n",
       "    // require.js not available: dynamically load d3 & LDAvis\n",
       "    LDAvis_load_lib(\"https://d3js.org/d3.v5.js\", function(){\n",
       "         LDAvis_load_lib(\"https://cdn.jsdelivr.net/gh/bmabey/pyLDAvis@3.4.0/pyLDAvis/js/ldavis.v3.0.0.js\", function(){\n",
       "                 new LDAvis(\"#\" + \"ldavis_el1996413598054283367095227588\", ldavis_el1996413598054283367095227588_data);\n",
       "            })\n",
       "         });\n",
       "}\n",
       "</script>"
      ],
      "text/plain": [
       "PreparedData(topic_coordinates=              x         y  topics  cluster       Freq\n",
       "topic                                                \n",
       "0     -0.167539 -0.131174       1        1  18.589185\n",
       "1     -0.192387  0.020890       2        1  11.546617\n",
       "2     -0.182901 -0.157596       3        1   8.037157\n",
       "3      0.305762 -0.147834       4        1   9.065784\n",
       "4     -0.077172  0.042225       5        1   8.142486\n",
       "5      0.082569  0.281114       6        1  10.238718\n",
       "6     -0.103902 -0.005526       7        1   8.306328\n",
       "7      0.061768  0.056296       8        1   7.746435\n",
       "8      0.064700  0.237426       9        1  10.288547\n",
       "9      0.209101 -0.195821      10        1   8.038743, topic_info=          Term          Freq         Total Category  logprob  loglift\n",
       "0         aide  19169.000000  19169.000000  Default  30.0000  30.0000\n",
       "38   chauffage  22104.000000  22104.000000  Default  29.0000  29.0000\n",
       "4      solaire  11482.000000  11482.000000  Default  28.0000  28.0000\n",
       "65   financier  10378.000000  10378.000000  Default  27.0000  27.0000\n",
       "231    chaleur   6512.000000   6512.000000  Default  26.0000  26.0000\n",
       "..         ...           ...           ...      ...      ...      ...\n",
       "237    pouvoir    904.422538   3755.551236  Topic10  -4.3114   1.0972\n",
       "35        état    698.457452   2631.240646  Topic10  -4.5698   1.1946\n",
       "95     changer    720.291647   6644.167448  Topic10  -4.5391   0.2991\n",
       "123      faire    683.397905   6877.209267  Topic10  -4.5916   0.2120\n",
       "66    problème    534.494408   1041.136522  Topic10  -4.8374   1.8542\n",
       "\n",
       "[499 rows x 6 columns], token_table=      Topic      Freq            Term\n",
       "term                                 \n",
       "1319      5  0.998519       abordable\n",
       "281       7  0.999466      accessible\n",
       "786       4  0.997769  accompagnement\n",
       "556       1  0.997021     accompagner\n",
       "1050      4  0.656943           accès\n",
       "...     ...       ...             ...\n",
       "19        5  0.778351           étude\n",
       "19       10  0.221296           étude\n",
       "138       3  0.997890          éviter\n",
       "640       1  0.374867            être\n",
       "640       7  0.624506            être\n",
       "\n",
       "[627 rows x 3 columns], R=30, lambda_step=0.01, plot_opts={'xlab': 'PC1', 'ylab': 'PC2'}, topic_order=[1, 2, 3, 4, 5, 6, 7, 8, 9, 10])"
      ]
     },
     "execution_count": 38,
     "metadata": {},
     "output_type": "execute_result"
    }
   ],
   "source": [
    "import pyLDAvis.gensim\n",
    "import warnings\n",
    "\n",
    "pyLDAvis.enable_notebook()\n",
    "warnings.filterwarnings(\"ignore\", category=DeprecationWarning) \n",
    "\n",
    "pyLDAvis.gensim.prepare(lda_model, corpus, dictionary, sort_topics=False)"
   ]
  },
  {
   "cell_type": "markdown",
   "metadata": {},
   "source": [
    "Finally, let's look at the topics that the model recognizes in some of the individual documents. Here we see how LDA tends to assign a high probability to a small number of topics for each document, making its results highly interpretable."
   ]
  },
  {
   "cell_type": "code",
   "execution_count": 39,
   "metadata": {},
   "outputs": [
    {
     "name": "stdout",
     "output_type": "stream",
     "text": [
      "***********\n",
      "* doc 1   *\n",
      "***********\n",
      "reference\n",
      "[(1, 0.1), (2, 0.1), (3, 0.1), (4, 0.1), (5, 0.1), (6, 0.1), (7, 0.1), (8, 0.1), (9, 0.1), (10, 0.1)]\n",
      "\n",
      "***********\n",
      "* doc 2   *\n",
      "***********\n",
      "title\n",
      "[(1, 0.1), (2, 0.1), (3, 0.1), (4, 0.1), (5, 0.1), (6, 0.1), (7, 0.1), (8, 0.1), (9, 0.1), (10, 0.1)]\n",
      "\n",
      "***********\n",
      "* doc 3   *\n",
      "***********\n",
      "authorId\n",
      "[(1, 0.1), (2, 0.1), (3, 0.1), (4, 0.1), (5, 0.1), (6, 0.1), (7, 0.1), (8, 0.1), (9, 0.1), (10, 0.1)]\n",
      "\n",
      "***********\n",
      "* doc 4   *\n",
      "***********\n",
      "authorType\n",
      "[(1, 0.1), (2, 0.1), (3, 0.1), (4, 0.1), (5, 0.1), (6, 0.1), (7, 0.1), (8, 0.1), (9, 0.1), (10, 0.1)]\n",
      "\n",
      "***********\n",
      "* doc 5   *\n",
      "***********\n",
      "authorZipCode\n",
      "[(3, 0.13749978), (4, 0.2625059), (6, 0.26250297), (7, 0.2624795)]\n",
      "\n",
      "***********\n",
      "* doc 6   *\n",
      "***********\n",
      "Quel est aujourd'hui pour vous le problème concret le plus important dans le domaine de l'environnement ?\n",
      "[(5, 0.2853956), (7, 0.110025786), (9, 0.53455114)]\n",
      "\n",
      "***********\n",
      "* doc 7   *\n",
      "***********\n",
      "Que faudrait-il faire selon vous pour apporter des réponses à ce problème ?\n",
      "[(5, 0.82008874)]\n",
      "\n",
      "***********\n",
      "* doc 8   *\n",
      "***********\n",
      " Par rapport à votre mode de chauffage actuel, pensez-vous qu'il existe des solutions alternatives plus écologiques ?\n",
      "[(10, 0.87142116)]\n",
      "\n"
     ]
    }
   ],
   "source": [
    "# Nous en affichons que 8\n",
    "i = 0\n",
    "for (text, doc) in zip(texts[:8], docs[:8]):\n",
    "    i += 1\n",
    "    print(\"***********\")\n",
    "    print(\"* doc\", i, \"  *\")\n",
    "    print(\"***********\")\n",
    "    print(text)\n",
    "    print([(topic+1, prob) for (topic, prob) in lda_model[dictionary.doc2bow(doc)] if prob > 0.1])\n",
    "    print()"
   ]
  },
  {
   "cell_type": "markdown",
   "metadata": {},
   "source": [
    "Many collections of unstructured text are not accompanied by labels. Topic models such as LDA are a useful technique for discovering the most important topics in these documents. **Gensim** facilitates learning about these topics and **pyLDAvis** presents the results in a visually appealing way. Together, they form a powerful toolkit for better understanding what's inside large document sets and for exploring subsets of related texts. While these results are often already quite revealing, it is also possible to use them as a starting point, for example, for a labeling exercise for supervised text classification. In sum, thematic models should be in every data scientist's toolbox as a very quick way to gain insight into large document collections."
   ]
  }
 ],
 "metadata": {
  "kernelspec": {
   "display_name": "Python 3 (ipykernel)",
   "language": "python",
   "name": "python3"
  },
  "language_info": {
   "codemirror_mode": {
    "name": "ipython",
    "version": 3
   },
   "file_extension": ".py",
   "mimetype": "text/x-python",
   "name": "python",
   "nbconvert_exporter": "python",
   "pygments_lexer": "ipython3",
   "version": "3.9.18"
  }
 },
 "nbformat": 4,
 "nbformat_minor": 4
}
